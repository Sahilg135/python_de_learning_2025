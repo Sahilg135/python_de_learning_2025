{
 "cells": [
  {
   "cell_type": "code",
   "execution_count": 1,
   "metadata": {
    "colab": {
     "base_uri": "https://localhost:8080/"
    },
    "executionInfo": {
     "elapsed": 22,
     "status": "ok",
     "timestamp": 1748892290283,
     "user": {
      "displayName": "Sahil Gundu",
      "userId": "02742797828543038822"
     },
     "user_tz": -330
    },
    "id": "XeE2onepPnBS",
    "outputId": "9e95b94e-81aa-47e6-b6c5-f10517e920fc"
   },
   "outputs": [
    {
     "name": "stdout",
     "output_type": "stream",
     "text": [
      "Sahil Gundu 123\n"
     ]
    }
   ],
   "source": [
    "a = \"Sahil Gundu 123\"\n",
    "\n",
    "print (a)"
   ]
  },
  {
   "cell_type": "code",
   "execution_count": 2,
   "metadata": {
    "colab": {
     "base_uri": "https://localhost:8080/"
    },
    "executionInfo": {
     "elapsed": 33,
     "status": "ok",
     "timestamp": 1748892384091,
     "user": {
      "displayName": "Sahil Gundu",
      "userId": "02742797828543038822"
     },
     "user_tz": -330
    },
    "id": "JMgb42iMG9iy",
    "outputId": "bbc6d7a3-ab3f-41f1-83db-5029a063def5"
   },
   "outputs": [
    {
     "data": {
      "text/plain": [
       "str"
      ]
     },
     "execution_count": 2,
     "metadata": {},
     "output_type": "execute_result"
    }
   ],
   "source": [
    "type (a)"
   ]
  },
  {
   "cell_type": "code",
   "execution_count": 3,
   "metadata": {
    "colab": {
     "base_uri": "https://localhost:8080/"
    },
    "executionInfo": {
     "elapsed": 24,
     "status": "ok",
     "timestamp": 1748892462770,
     "user": {
      "displayName": "Sahil Gundu",
      "userId": "02742797828543038822"
     },
     "user_tz": -330
    },
    "id": "IDMDHQ-gHQ6p",
    "outputId": "cd9516e0-8652-4e95-86d4-f32bab316845"
   },
   "outputs": [
    {
     "data": {
      "text/plain": [
       "1649780573680"
      ]
     },
     "execution_count": 3,
     "metadata": {},
     "output_type": "execute_result"
    }
   ],
   "source": [
    "id (a)"
   ]
  },
  {
   "cell_type": "code",
   "execution_count": 4,
   "metadata": {
    "colab": {
     "base_uri": "https://localhost:8080/"
    },
    "executionInfo": {
     "elapsed": 43,
     "status": "ok",
     "timestamp": 1748892543111,
     "user": {
      "displayName": "Sahil Gundu",
      "userId": "02742797828543038822"
     },
     "user_tz": -330
    },
    "id": "1e4UgGKIHifE",
    "outputId": "61853713-0f54-4e45-81aa-ef1c2cf83664"
   },
   "outputs": [
    {
     "data": {
      "text/plain": [
       "15"
      ]
     },
     "execution_count": 4,
     "metadata": {},
     "output_type": "execute_result"
    }
   ],
   "source": [
    "len (a)"
   ]
  },
  {
   "cell_type": "code",
   "execution_count": 5,
   "metadata": {
    "id": "CiQiR5FGHjZb"
   },
   "outputs": [],
   "source": [
    "name = \"Sahil Gundu\"\n",
    "\n",
    "name2= 'Sahil G'\n",
    "\n",
    "name3 = \"\"\"Sahil\n",
    "Ramesh\n",
    "Gundu\"\"\""
   ]
  },
  {
   "cell_type": "code",
   "execution_count": 6,
   "metadata": {
    "colab": {
     "base_uri": "https://localhost:8080/"
    },
    "executionInfo": {
     "elapsed": 20,
     "status": "ok",
     "timestamp": 1748893268995,
     "user": {
      "displayName": "Sahil Gundu",
      "userId": "02742797828543038822"
     },
     "user_tz": -330
    },
    "id": "uhzEQXeOKIi1",
    "outputId": "72096492-7014-4b2a-899b-f26a2ade6552"
   },
   "outputs": [
    {
     "name": "stdout",
     "output_type": "stream",
     "text": [
      "Sahil\n",
      "Ramesh\n",
      "Gundu\n"
     ]
    }
   ],
   "source": [
    "print (name3)"
   ]
  },
  {
   "cell_type": "code",
   "execution_count": null,
   "metadata": {
    "colab": {
     "base_uri": "https://localhost:8080/",
     "height": 35
    },
    "executionInfo": {
     "elapsed": 16,
     "status": "ok",
     "timestamp": 1748894099006,
     "user": {
      "displayName": "Sahil Gundu",
      "userId": "02742797828543038822"
     },
     "user_tz": -330
    },
    "id": "_zfARGPzNhZm",
    "outputId": "d90e8526-d4da-43ab-b1ee-64690e20d4ec"
   },
   "outputs": [
    {
     "data": {
      "application/vnd.google.colaboratory.intrinsic+json": {
       "type": "string"
      },
      "text/plain": [
       "'Sahil Gundu'"
      ]
     },
     "execution_count": 14,
     "metadata": {},
     "output_type": "execute_result"
    }
   ],
   "source": [
    "name"
   ]
  },
  {
   "cell_type": "code",
   "execution_count": null,
   "metadata": {
    "colab": {
     "base_uri": "https://localhost:8080/",
     "height": 35
    },
    "executionInfo": {
     "elapsed": 28,
     "status": "ok",
     "timestamp": 1748894120428,
     "user": {
      "displayName": "Sahil Gundu",
      "userId": "02742797828543038822"
     },
     "user_tz": -330
    },
    "id": "ld26oDYCNjii",
    "outputId": "ee89f67d-734b-4f19-b674-d6df62f836bd"
   },
   "outputs": [
    {
     "data": {
      "application/vnd.google.colaboratory.intrinsic+json": {
       "type": "string"
      },
      "text/plain": [
       "'S'"
      ]
     },
     "execution_count": 15,
     "metadata": {},
     "output_type": "execute_result"
    }
   ],
   "source": [
    "name[0]"
   ]
  },
  {
   "cell_type": "code",
   "execution_count": null,
   "metadata": {
    "colab": {
     "base_uri": "https://localhost:8080/",
     "height": 35
    },
    "executionInfo": {
     "elapsed": 46,
     "status": "ok",
     "timestamp": 1748894161377,
     "user": {
      "displayName": "Sahil Gundu",
      "userId": "02742797828543038822"
     },
     "user_tz": -330
    },
    "id": "dmHoSSSvNo_b",
    "outputId": "8a9f6fd5-afc6-44be-c3e6-0b5434b6c780"
   },
   "outputs": [
    {
     "data": {
      "application/vnd.google.colaboratory.intrinsic+json": {
       "type": "string"
      },
      "text/plain": [
       "'a'"
      ]
     },
     "execution_count": 16,
     "metadata": {},
     "output_type": "execute_result"
    }
   ],
   "source": [
    "name[1]"
   ]
  },
  {
   "cell_type": "code",
   "execution_count": null,
   "metadata": {
    "colab": {
     "base_uri": "https://localhost:8080/",
     "height": 35
    },
    "executionInfo": {
     "elapsed": 66,
     "status": "ok",
     "timestamp": 1748894215659,
     "user": {
      "displayName": "Sahil Gundu",
      "userId": "02742797828543038822"
     },
     "user_tz": -330
    },
    "id": "IXuyI9baNpa7",
    "outputId": "624f3416-29f8-413c-a0eb-b397a76d0711"
   },
   "outputs": [
    {
     "data": {
      "application/vnd.google.colaboratory.intrinsic+json": {
       "type": "string"
      },
      "text/plain": [
       "' '"
      ]
     },
     "execution_count": 20,
     "metadata": {},
     "output_type": "execute_result"
    }
   ],
   "source": [
    "name[-6]"
   ]
  },
  {
   "cell_type": "code",
   "execution_count": null,
   "metadata": {
    "id": "FlBD77aNNpru"
   },
   "outputs": [],
   "source": [
    "name = \"Sahil Gundu\""
   ]
  },
  {
   "cell_type": "code",
   "execution_count": null,
   "metadata": {
    "colab": {
     "base_uri": "https://localhost:8080/",
     "height": 35
    },
    "executionInfo": {
     "elapsed": 38,
     "status": "ok",
     "timestamp": 1748894292075,
     "user": {
      "displayName": "Sahil Gundu",
      "userId": "02742797828543038822"
     },
     "user_tz": -330
    },
    "id": "_jG7r4K-Np7r",
    "outputId": "d13d7cd1-11e2-497a-abcf-67c327cd2b47"
   },
   "outputs": [
    {
     "data": {
      "application/vnd.google.colaboratory.intrinsic+json": {
       "type": "string"
      },
      "text/plain": [
       "'ai u'"
      ]
     },
     "execution_count": 24,
     "metadata": {},
     "output_type": "execute_result"
    }
   ],
   "source": [
    "name[1:8:2]"
   ]
  },
  {
   "cell_type": "code",
   "execution_count": 4,
   "metadata": {
    "colab": {
     "base_uri": "https://localhost:8080/"
    },
    "executionInfo": {
     "elapsed": 48,
     "status": "ok",
     "timestamp": 1748926941589,
     "user": {
      "displayName": "Sahil Gundu",
      "userId": "02742797828543038822"
     },
     "user_tz": -330
    },
    "id": "tHPZ4FO9NqQo",
    "outputId": "8f1644e1-1a65-496b-f7a8-eb2934238b89"
   },
   "outputs": [
    {
     "name": "stdout",
     "output_type": "stream",
     "text": [
      "Sahil####Gundu\n"
     ]
    }
   ],
   "source": [
    "first_name = \"Sahil\"\n",
    "last_name = \"Gundu\"\n",
    "\n",
    "full_name = first_name + \"####\" + last_name\n",
    "\n",
    "print (full_name)"
   ]
  },
  {
   "cell_type": "code",
   "execution_count": 8,
   "metadata": {
    "colab": {
     "base_uri": "https://localhost:8080/"
    },
    "executionInfo": {
     "elapsed": 22,
     "status": "ok",
     "timestamp": 1748927159056,
     "user": {
      "displayName": "Sahil Gundu",
      "userId": "02742797828543038822"
     },
     "user_tz": -330
    },
    "id": "mGmM-qBtLQdd",
    "outputId": "2f189c1e-d4ef-4298-e6ad-ac758e74078a"
   },
   "outputs": [
    {
     "name": "stdout",
     "output_type": "stream",
     "text": [
      "/nI got the package of 48 lacs./nI got the package of 48 lacs./nI got the package of 48 lacs./nI got the package of 48 lacs./nI got the package of 48 lacs./nI got the package of 48 lacs./nI got the package of 48 lacs./nI got the package of 48 lacs./nI got the package of 48 lacs./nI got the package of 48 lacs.\n"
     ]
    }
   ],
   "source": [
    "goal = \"/nI got the package of 48 lacs.\"\n",
    "\n",
    "output = goal*10\n",
    "\n",
    "print (output)"
   ]
  },
  {
   "cell_type": "code",
   "execution_count": 10,
   "metadata": {
    "colab": {
     "base_uri": "https://localhost:8080/",
     "height": 70
    },
    "executionInfo": {
     "elapsed": 8,
     "status": "ok",
     "timestamp": 1748927216057,
     "user": {
      "displayName": "Sahil Gundu",
      "userId": "02742797828543038822"
     },
     "user_tz": -330
    },
    "id": "5TdMt2OjLyuk",
    "outputId": "b7899390-30a0-4d91-b659-3773bb1720f1"
   },
   "outputs": [
    {
     "data": {
      "application/vnd.google.colaboratory.intrinsic+json": {
       "type": "string"
      },
      "text/plain": [
       "'/nI got the package of 48 lacs./nI got the package of 48 lacs./nI got the package of 48 lacs./nI got the package of 48 lacs./nI got the package of 48 lacs./nI got the package of 48 lacs./nI got the package of 48 lacs./nI got the package of 48 lacs./nI got the package of 48 lacs./nI got the package of 48 lacs.'"
      ]
     },
     "execution_count": 10,
     "metadata": {},
     "output_type": "execute_result"
    }
   ],
   "source": [
    "output"
   ]
  },
  {
   "cell_type": "code",
   "execution_count": 11,
   "metadata": {
    "executionInfo": {
     "elapsed": 6,
     "status": "ok",
     "timestamp": 1748927316021,
     "user": {
      "displayName": "Sahil Gundu",
      "userId": "02742797828543038822"
     },
     "user_tz": -330
    },
    "id": "zLQNLQgpMLwA"
   },
   "outputs": [],
   "source": [
    "s = goal"
   ]
  },
  {
   "cell_type": "code",
   "execution_count": 12,
   "metadata": {
    "colab": {
     "base_uri": "https://localhost:8080/",
     "height": 35
    },
    "executionInfo": {
     "elapsed": 23,
     "status": "ok",
     "timestamp": 1748927325964,
     "user": {
      "displayName": "Sahil Gundu",
      "userId": "02742797828543038822"
     },
     "user_tz": -330
    },
    "id": "rKMq6hGtMQgS",
    "outputId": "d5cdddf0-b6a7-4370-f80c-3807704f797f"
   },
   "outputs": [
    {
     "data": {
      "application/vnd.google.colaboratory.intrinsic+json": {
       "type": "string"
      },
      "text/plain": [
       "'/ni got the package of 48 lacs.'"
      ]
     },
     "execution_count": 12,
     "metadata": {},
     "output_type": "execute_result"
    }
   ],
   "source": [
    "s.lower()"
   ]
  },
  {
   "cell_type": "code",
   "execution_count": 13,
   "metadata": {
    "colab": {
     "base_uri": "https://localhost:8080/",
     "height": 35
    },
    "executionInfo": {
     "elapsed": 9,
     "status": "ok",
     "timestamp": 1748927338281,
     "user": {
      "displayName": "Sahil Gundu",
      "userId": "02742797828543038822"
     },
     "user_tz": -330
    },
    "id": "hUgMhEEPMUJ9",
    "outputId": "21f9e5f3-b6d9-47fd-be7b-c920d192df4c"
   },
   "outputs": [
    {
     "data": {
      "application/vnd.google.colaboratory.intrinsic+json": {
       "type": "string"
      },
      "text/plain": [
       "'/NI GOT THE PACKAGE OF 48 LACS.'"
      ]
     },
     "execution_count": 13,
     "metadata": {},
     "output_type": "execute_result"
    }
   ],
   "source": [
    "s.upper()"
   ]
  },
  {
   "cell_type": "code",
   "execution_count": 16,
   "metadata": {
    "colab": {
     "base_uri": "https://localhost:8080/",
     "height": 35
    },
    "executionInfo": {
     "elapsed": 22,
     "status": "ok",
     "timestamp": 1748927523635,
     "user": {
      "displayName": "Sahil Gundu",
      "userId": "02742797828543038822"
     },
     "user_tz": -330
    },
    "id": "oDbmrZuHMtzq",
    "outputId": "ccc85fe0-72be-453f-c820-b43b9b414bab"
   },
   "outputs": [
    {
     "data": {
      "application/vnd.google.colaboratory.intrinsic+json": {
       "type": "string"
      },
      "text/plain": [
       "'abcd'"
      ]
     },
     "execution_count": 16,
     "metadata": {},
     "output_type": "execute_result"
    }
   ],
   "source": [
    "\"abcd     \".strip()"
   ]
  },
  {
   "cell_type": "code",
   "execution_count": 17,
   "metadata": {
    "colab": {
     "base_uri": "https://localhost:8080/",
     "height": 35
    },
    "executionInfo": {
     "elapsed": 26,
     "status": "ok",
     "timestamp": 1748928339470,
     "user": {
      "displayName": "Sahil Gundu",
      "userId": "02742797828543038822"
     },
     "user_tz": -330
    },
    "id": "W4UZZA-aMtpR",
    "outputId": "deed6c03-a482-464b-d45e-b040dacf0b2c"
   },
   "outputs": [
    {
     "data": {
      "application/vnd.google.colaboratory.intrinsic+json": {
       "type": "string"
      },
      "text/plain": [
       "'/nI got the package of 48 lacs.'"
      ]
     },
     "execution_count": 17,
     "metadata": {},
     "output_type": "execute_result"
    }
   ],
   "source": [
    "s"
   ]
  },
  {
   "cell_type": "code",
   "execution_count": 20,
   "metadata": {
    "colab": {
     "base_uri": "https://localhost:8080/",
     "height": 35
    },
    "executionInfo": {
     "elapsed": 27,
     "status": "ok",
     "timestamp": 1748928369648,
     "user": {
      "displayName": "Sahil Gundu",
      "userId": "02742797828543038822"
     },
     "user_tz": -330
    },
    "id": "Tf0xbT-zMtbx",
    "outputId": "44c95384-c78e-4d8a-fd5b-6554cc4aa3eb"
   },
   "outputs": [
    {
     "data": {
      "application/vnd.google.colaboratory.intrinsic+json": {
       "type": "string"
      },
      "text/plain": [
       "'I got the package of 48 Lacs'"
      ]
     },
     "execution_count": 20,
     "metadata": {},
     "output_type": "execute_result"
    }
   ],
   "source": [
    "s = \"I got the package of 48 Lacs\"\n",
    "s"
   ]
  },
  {
   "cell_type": "code",
   "execution_count": 22,
   "metadata": {
    "colab": {
     "base_uri": "https://localhost:8080/"
    },
    "executionInfo": {
     "elapsed": 8,
     "status": "ok",
     "timestamp": 1748928399705,
     "user": {
      "displayName": "Sahil Gundu",
      "userId": "02742797828543038822"
     },
     "user_tz": -330
    },
    "id": "pzqtv60HQTRb",
    "outputId": "8ed2bed7-deda-480d-c7a1-1db8c0c7ec63"
   },
   "outputs": [
    {
     "data": {
      "text/plain": [
       "False"
      ]
     },
     "execution_count": 22,
     "metadata": {},
     "output_type": "execute_result"
    }
   ],
   "source": [
    "s.startswith(\"i got\")"
   ]
  },
  {
   "cell_type": "code",
   "execution_count": 24,
   "metadata": {
    "colab": {
     "base_uri": "https://localhost:8080/"
    },
    "executionInfo": {
     "elapsed": 6,
     "status": "ok",
     "timestamp": 1748928427509,
     "user": {
      "displayName": "Sahil Gundu",
      "userId": "02742797828543038822"
     },
     "user_tz": -330
    },
    "id": "nOpqEiYgQTOh",
    "outputId": "797649a3-1022-45a1-85a4-4103070da676"
   },
   "outputs": [
    {
     "data": {
      "text/plain": [
       "True"
      ]
     },
     "execution_count": 24,
     "metadata": {},
     "output_type": "execute_result"
    }
   ],
   "source": [
    "s.endswith(\"48 Lacs\")"
   ]
  },
  {
   "cell_type": "code",
   "execution_count": 25,
   "metadata": {
    "colab": {
     "base_uri": "https://localhost:8080/",
     "height": 35
    },
    "executionInfo": {
     "elapsed": 37,
     "status": "ok",
     "timestamp": 1748928495762,
     "user": {
      "displayName": "Sahil Gundu",
      "userId": "02742797828543038822"
     },
     "user_tz": -330
    },
    "id": "5Hr7dO4hQTJh",
    "outputId": "bf92e15a-6441-4292-d703-3d2e58852d3e"
   },
   "outputs": [
    {
     "data": {
      "application/vnd.google.colaboratory.intrinsic+json": {
       "type": "string"
      },
      "text/plain": [
       "'I got the package of 48 Lacs'"
      ]
     },
     "execution_count": 25,
     "metadata": {},
     "output_type": "execute_result"
    }
   ],
   "source": [
    "s"
   ]
  },
  {
   "cell_type": "code",
   "execution_count": 26,
   "metadata": {
    "colab": {
     "base_uri": "https://localhost:8080/",
     "height": 35
    },
    "executionInfo": {
     "elapsed": 33,
     "status": "ok",
     "timestamp": 1748928553827,
     "user": {
      "displayName": "Sahil Gundu",
      "userId": "02742797828543038822"
     },
     "user_tz": -330
    },
    "id": "TzpwvPklQTGx",
    "outputId": "4ce53f37-44f4-489e-c05b-751f3a575f94"
   },
   "outputs": [
    {
     "data": {
      "application/vnd.google.colaboratory.intrinsic+json": {
       "type": "string"
      },
      "text/plain": [
       "'Senior Data Engineer Sahil got the package of 48 Lacs'"
      ]
     },
     "execution_count": 26,
     "metadata": {},
     "output_type": "execute_result"
    }
   ],
   "source": [
    "s.replace(\"I\", \"Senior Data Engineer Sahil\")"
   ]
  },
  {
   "cell_type": "code",
   "execution_count": 30,
   "metadata": {
    "executionInfo": {
     "elapsed": 20,
     "status": "ok",
     "timestamp": 1748935434627,
     "user": {
      "displayName": "Sahil Gundu",
      "userId": "02742797828543038822"
     },
     "user_tz": -330
    },
    "id": "cGUX00xvQTDc"
   },
   "outputs": [],
   "source": [
    "my_string = \"applebananaechiku\"\n",
    "\n",
    "lst = my_string.split(\"e\")"
   ]
  },
  {
   "cell_type": "code",
   "execution_count": 31,
   "metadata": {
    "colab": {
     "base_uri": "https://localhost:8080/"
    },
    "executionInfo": {
     "elapsed": 9,
     "status": "ok",
     "timestamp": 1748935442867,
     "user": {
      "displayName": "Sahil Gundu",
      "userId": "02742797828543038822"
     },
     "user_tz": -330
    },
    "id": "0hEbtt71rPRm",
    "outputId": "aa463bba-c7c9-4bfc-9d03-f6947935cd58"
   },
   "outputs": [
    {
     "data": {
      "text/plain": [
       "['appl', 'banana', 'chiku']"
      ]
     },
     "execution_count": 31,
     "metadata": {},
     "output_type": "execute_result"
    }
   ],
   "source": [
    "lst"
   ]
  },
  {
   "cell_type": "code",
   "execution_count": 32,
   "metadata": {
    "colab": {
     "base_uri": "https://localhost:8080/"
    },
    "executionInfo": {
     "elapsed": 18,
     "status": "ok",
     "timestamp": 1748935448879,
     "user": {
      "displayName": "Sahil Gundu",
      "userId": "02742797828543038822"
     },
     "user_tz": -330
    },
    "id": "HAamazUwQTAB",
    "outputId": "92f7a659-0485-4d92-9b70-7ad324a978ba"
   },
   "outputs": [
    {
     "data": {
      "text/plain": [
       "list"
      ]
     },
     "execution_count": 32,
     "metadata": {},
     "output_type": "execute_result"
    }
   ],
   "source": [
    "type(lst)"
   ]
  },
  {
   "cell_type": "code",
   "execution_count": 34,
   "metadata": {
    "colab": {
     "base_uri": "https://localhost:8080/",
     "height": 35
    },
    "executionInfo": {
     "elapsed": 63,
     "status": "ok",
     "timestamp": 1748935519615,
     "user": {
      "displayName": "Sahil Gundu",
      "userId": "02742797828543038822"
     },
     "user_tz": -330
    },
    "id": "-QVA_QTwQS8q",
    "outputId": "91862f4b-d259-47f7-c118-5dde81d38651"
   },
   "outputs": [
    {
     "data": {
      "application/vnd.google.colaboratory.intrinsic+json": {
       "type": "string"
      },
      "text/plain": [
       "'appl,banana,chiku'"
      ]
     },
     "execution_count": 34,
     "metadata": {},
     "output_type": "execute_result"
    }
   ],
   "source": [
    "my_string2= \",\".join(lst)\n",
    "my_string2"
   ]
  },
  {
   "cell_type": "code",
   "execution_count": 35,
   "metadata": {
    "colab": {
     "base_uri": "https://localhost:8080/"
    },
    "executionInfo": {
     "elapsed": 25,
     "status": "ok",
     "timestamp": 1748935545401,
     "user": {
      "displayName": "Sahil Gundu",
      "userId": "02742797828543038822"
     },
     "user_tz": -330
    },
    "id": "gLS7pnymQS51",
    "outputId": "c4ed79a5-e1f9-41f5-9f3f-559c688a336f"
   },
   "outputs": [
    {
     "data": {
      "text/plain": [
       "str"
      ]
     },
     "execution_count": 35,
     "metadata": {},
     "output_type": "execute_result"
    }
   ],
   "source": [
    "type(my_string2)"
   ]
  },
  {
   "cell_type": "code",
   "execution_count": 36,
   "metadata": {
    "colab": {
     "base_uri": "https://localhost:8080/"
    },
    "executionInfo": {
     "elapsed": 59,
     "status": "ok",
     "timestamp": 1748936023570,
     "user": {
      "displayName": "Sahil Gundu",
      "userId": "02742797828543038822"
     },
     "user_tz": -330
    },
    "id": "4G0vWTaeQS15",
    "outputId": "0c9904b3-314d-488a-a541-d729416c5bc6"
   },
   "outputs": [
    {
     "name": "stdout",
     "output_type": "stream",
     "text": [
      "My pipeline is stating with souce_bucket and file is emp.csv\n"
     ]
    }
   ],
   "source": [
    "bucket = \"source_bucket\"\n",
    "file = \"emp.csv\"\n",
    "\n",
    "print (\"My pipeline is stating with souce_bucket and file is emp.csv\")"
   ]
  },
  {
   "cell_type": "code",
   "execution_count": 40,
   "metadata": {
    "colab": {
     "base_uri": "https://localhost:8080/"
    },
    "executionInfo": {
     "elapsed": 51,
     "status": "ok",
     "timestamp": 1748936124630,
     "user": {
      "displayName": "Sahil Gundu",
      "userId": "02742797828543038822"
     },
     "user_tz": -330
    },
    "id": "_OpZPuC3QSyZ",
    "outputId": "8220b891-2d48-4b2c-8584-1101a1a22800"
   },
   "outputs": [
    {
     "name": "stdout",
     "output_type": "stream",
     "text": [
      "My pipeline is stating with source_bucket1 and file is sales.csv\n"
     ]
    }
   ],
   "source": [
    "bucket = \"source_bucket1\"\n",
    "file = \"sales.csv\"\n",
    "\n",
    "print (f\"My pipeline is stating with {bucket} and file is {file}\")"
   ]
  },
  {
   "cell_type": "code",
   "execution_count": 44,
   "metadata": {
    "colab": {
     "base_uri": "https://localhost:8080/"
    },
    "executionInfo": {
     "elapsed": 54,
     "status": "ok",
     "timestamp": 1748936592462,
     "user": {
      "displayName": "Sahil Gundu",
      "userId": "02742797828543038822"
     },
     "user_tz": -330
    },
    "id": "yt7sv_0LQScj",
    "outputId": "ab69e536-c98b-4d07-8555-c43ad07d6659"
   },
   "outputs": [
    {
     "name": "stdout",
     "output_type": "stream",
     "text": [
      "Hello.Rajesh!\n"
     ]
    }
   ],
   "source": [
    "emp_name = \"Rajesh!\"\n",
    "\n",
    "print(\"Hello.{}\".format(emp_name))"
   ]
  },
  {
   "cell_type": "code",
   "execution_count": 49,
   "metadata": {
    "colab": {
     "base_uri": "https://localhost:8080/"
    },
    "executionInfo": {
     "elapsed": 24,
     "status": "ok",
     "timestamp": 1748936819879,
     "user": {
      "displayName": "Sahil Gundu",
      "userId": "02742797828543038822"
     },
     "user_tz": -330
    },
    "id": "m7dkEmUSv2fb",
    "outputId": "20b6970e-9f60-45b5-e086-78b2c24668b1"
   },
   "outputs": [
    {
     "name": "stdout",
     "output_type": "stream",
     "text": [
      "I have 2 employees: First employee is: Sahil & second employee is: AK & third employee is: Managala\n"
     ]
    }
   ],
   "source": [
    "emp1 = \"Sahil\"\n",
    "emp2 = \"Managala\"\n",
    "emp3 = \"AK\"\n",
    "\n",
    "print(\"I have 2 employees: First employee is: {} & second employee is: {} & third employee is: {}\".format(emp1, emp3, emp2))"
   ]
  },
  {
   "cell_type": "code",
   "execution_count": 65,
   "metadata": {
    "colab": {
     "base_uri": "https://localhost:8080/"
    },
    "executionInfo": {
     "elapsed": 26,
     "status": "ok",
     "timestamp": 1748938210779,
     "user": {
      "displayName": "Sahil Gundu",
      "userId": "02742797828543038822"
     },
     "user_tz": -330
    },
    "id": "6om6tkIlv1Is",
    "outputId": "25a98f08-0540-4a31-8419-32e4875fcf28"
   },
   "outputs": [
    {
     "name": "stdout",
     "output_type": "stream",
     "text": [
      "10\n",
      "4\n",
      "21\n",
      "2.3333333333333335\n",
      "1\n",
      "343\n",
      "2\n"
     ]
    }
   ],
   "source": [
    "a = 7\n",
    "b = 3\n",
    "\n",
    "print(a + b)\n",
    "print(a - b)\n",
    "print(a * b)\n",
    "print(a / b)\n",
    "print(a % b)\n",
    "print(a ** b)\n",
    "print(a // b)"
   ]
  },
  {
   "cell_type": "code",
   "execution_count": 85,
   "metadata": {
    "colab": {
     "base_uri": "https://localhost:8080/"
    },
    "executionInfo": {
     "elapsed": 20,
     "status": "ok",
     "timestamp": 1748938822770,
     "user": {
      "displayName": "Sahil Gundu",
      "userId": "02742797828543038822"
     },
     "user_tz": -330
    },
    "id": "2U6gGOjXv1FP",
    "outputId": "f1d73ebf-03f2-4c8c-cf85-180aa6f1d793"
   },
   "outputs": [
    {
     "name": "stdout",
     "output_type": "stream",
     "text": [
      "False\n"
     ]
    }
   ],
   "source": [
    "a = 28\n",
    "b = 64\n",
    "c = 78\n",
    "\n",
    "# print(a == b)\n",
    "# print(a != b)\n",
    "# print(a > b)\n",
    "# print(a < b)\n",
    "# print(a >= b)\n",
    "# print(a <= b)\n",
    "\n",
    "print(not (a < b and b < c))"
   ]
  },
  {
   "cell_type": "code",
   "execution_count": 92,
   "metadata": {
    "colab": {
     "base_uri": "https://localhost:8080/"
    },
    "executionInfo": {
     "elapsed": 33,
     "status": "ok",
     "timestamp": 1748939119923,
     "user": {
      "displayName": "Sahil Gundu",
      "userId": "02742797828543038822"
     },
     "user_tz": -330
    },
    "id": "N-H4Aq05v1CZ",
    "outputId": "7b960ab7-f2ff-4363-b392-2f45673e138a"
   },
   "outputs": [
    {
     "data": {
      "text/plain": [
       "1.4"
      ]
     },
     "execution_count": 92,
     "metadata": {},
     "output_type": "execute_result"
    }
   ],
   "source": [
    "a = 14\n",
    "\n",
    "# a = a - 10\n",
    "\n",
    "a /= 10\n",
    "\n",
    "a\n"
   ]
  },
  {
   "cell_type": "code",
   "execution_count": 97,
   "metadata": {
    "colab": {
     "base_uri": "https://localhost:8080/"
    },
    "executionInfo": {
     "elapsed": 74,
     "status": "ok",
     "timestamp": 1748939394539,
     "user": {
      "displayName": "Sahil Gundu",
      "userId": "02742797828543038822"
     },
     "user_tz": -330
    },
    "id": "Nr4mpqRev0_V",
    "outputId": "e57151af-4500-4c42-ddf3-afd4c2a4d520"
   },
   "outputs": [
    {
     "name": "stdout",
     "output_type": "stream",
     "text": [
      "False\n"
     ]
    }
   ],
   "source": [
    "a = \"Start coding\"\n",
    "\n",
    "print(\"Start\" not in a)"
   ]
  },
  {
   "cell_type": "code",
   "execution_count": 110,
   "metadata": {
    "colab": {
     "base_uri": "https://localhost:8080/"
    },
    "executionInfo": {
     "elapsed": 20,
     "status": "ok",
     "timestamp": 1748940347108,
     "user": {
      "displayName": "Sahil Gundu",
      "userId": "02742797828543038822"
     },
     "user_tz": -330
    },
    "id": "_8VPWAi-v08b",
    "outputId": "cc9042a1-9820-41eb-a755-74615b2f6480"
   },
   "outputs": [
    {
     "data": {
      "text/plain": [
       "complex"
      ]
     },
     "execution_count": 110,
     "metadata": {},
     "output_type": "execute_result"
    }
   ],
   "source": [
    "a = 4.25j\n",
    "\n",
    "type(a)"
   ]
  },
  {
   "cell_type": "code",
   "execution_count": 118,
   "metadata": {
    "colab": {
     "base_uri": "https://localhost:8080/"
    },
    "executionInfo": {
     "elapsed": 57,
     "status": "ok",
     "timestamp": 1748940776148,
     "user": {
      "displayName": "Sahil Gundu",
      "userId": "02742797828543038822"
     },
     "user_tz": -330
    },
    "id": "tAqah8PYv05B",
    "outputId": "0e6d575c-8a95-4d99-9cfe-4592d6f2bb37"
   },
   "outputs": [
    {
     "data": {
      "text/plain": [
       "int"
      ]
     },
     "execution_count": 118,
     "metadata": {},
     "output_type": "execute_result"
    }
   ],
   "source": [
    "a = 12\n",
    "\n",
    "b = float(a)\n",
    "\n",
    "type(b)\n",
    "\n",
    "c = int(b)\n",
    "\n",
    "type(c)\n",
    "\n",
    "# print(\"Type of c:\", type(c))"
   ]
  },
  {
   "cell_type": "code",
   "execution_count": 122,
   "metadata": {
    "colab": {
     "base_uri": "https://localhost:8080/"
    },
    "executionInfo": {
     "elapsed": 53,
     "status": "ok",
     "timestamp": 1748941069822,
     "user": {
      "displayName": "Sahil Gundu",
      "userId": "02742797828543038822"
     },
     "user_tz": -330
    },
    "id": "AqwbnB8Rv0mw",
    "outputId": "553b56ea-19c0-4960-af21-fdb29be79330"
   },
   "outputs": [
    {
     "data": {
      "text/plain": [
       "str"
      ]
     },
     "execution_count": 122,
     "metadata": {},
     "output_type": "execute_result"
    }
   ],
   "source": [
    "x = \"True\"\n",
    "\n",
    "type(x)\n",
    "\n",
    "# print(x)"
   ]
  },
  {
   "cell_type": "code",
   "execution_count": 128,
   "metadata": {
    "colab": {
     "base_uri": "https://localhost:8080/"
    },
    "executionInfo": {
     "elapsed": 23,
     "status": "ok",
     "timestamp": 1748941517791,
     "user": {
      "displayName": "Sahil Gundu",
      "userId": "02742797828543038822"
     },
     "user_tz": -330
    },
    "id": "bnfFLBFgCK4h",
    "outputId": "abd54f47-cd6c-4411-dfb2-8d2bd8491c23"
   },
   "outputs": [
    {
     "data": {
      "text/plain": [
       "False"
      ]
     },
     "execution_count": 128,
     "metadata": {},
     "output_type": "execute_result"
    }
   ],
   "source": [
    "a = \"\"\n",
    "\n",
    "bool(a)"
   ]
  },
  {
   "cell_type": "code",
   "execution_count": 131,
   "metadata": {
    "colab": {
     "base_uri": "https://localhost:8080/"
    },
    "executionInfo": {
     "elapsed": 96,
     "status": "ok",
     "timestamp": 1748942001651,
     "user": {
      "displayName": "Sahil Gundu",
      "userId": "02742797828543038822"
     },
     "user_tz": -330
    },
    "id": "OrCYhBliCK1k",
    "outputId": "ef15261b-4516-4eba-dc2c-c9ab28395cd2"
   },
   "outputs": [
    {
     "data": {
      "text/plain": [
       "NoneType"
      ]
     },
     "execution_count": 131,
     "metadata": {},
     "output_type": "execute_result"
    }
   ],
   "source": [
    "a = None\n",
    "\n",
    "type(a)\n",
    "\n",
    "# b = \"\"\n",
    "\n",
    "# type(b)"
   ]
  },
  {
   "cell_type": "code",
   "execution_count": null,
   "metadata": {
    "id": "p6bDTzt9CKzO"
   },
   "outputs": [],
   "source": []
  },
  {
   "cell_type": "code",
   "execution_count": null,
   "metadata": {
    "id": "G0bOrpz8CKwj"
   },
   "outputs": [],
   "source": []
  },
  {
   "cell_type": "code",
   "execution_count": null,
   "metadata": {
    "id": "mvehKkDnCKuJ"
   },
   "outputs": [],
   "source": []
  },
  {
   "cell_type": "code",
   "execution_count": null,
   "metadata": {
    "id": "BsZ6f1J_CKr1"
   },
   "outputs": [],
   "source": []
  },
  {
   "cell_type": "code",
   "execution_count": null,
   "metadata": {
    "id": "S7o-Zh5BCKqA"
   },
   "outputs": [],
   "source": []
  },
  {
   "cell_type": "code",
   "execution_count": null,
   "metadata": {
    "id": "gaRseMbFCKnr"
   },
   "outputs": [],
   "source": []
  },
  {
   "cell_type": "code",
   "execution_count": null,
   "metadata": {
    "id": "f4PGX3g0CKgA"
   },
   "outputs": [],
   "source": []
  }
 ],
 "metadata": {
  "colab": {
   "authorship_tag": "ABX9TyMK6XdNeMuB3dAsy9aajWPi",
   "provenance": []
  },
  "kernelspec": {
   "display_name": "Python 3",
   "name": "python3"
  },
  "language_info": {
   "codemirror_mode": {
    "name": "ipython",
    "version": 3
   },
   "file_extension": ".py",
   "mimetype": "text/x-python",
   "name": "python",
   "nbconvert_exporter": "python",
   "pygments_lexer": "ipython3",
   "version": "3.12.3"
  }
 },
 "nbformat": 4,
 "nbformat_minor": 0
}
