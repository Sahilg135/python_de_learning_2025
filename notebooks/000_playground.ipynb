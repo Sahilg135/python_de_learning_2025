{
  "cells": [
    {
      "cell_type": "markdown",
      "metadata": {},
      "source": [
        "# 000_playground\n",
        "Use this notebook to prototype. Then move code into `src/` and add tests.\n"
      ]
    },
    {
      "cell_type": "code",
      "execution_count": null,
      "metadata": {},
      "outputs": [],
      "source": [
        "print('Hello, Sahil \u2014 premium DE in progress!')"
      ]
    }
  ],
  "metadata": {
    "kernelspec": {
      "display_name": "python_de_learning_2025",
      "language": "python",
      "name": "python3"
    },
    "language_info": {
      "name": "python",
      "version": "3.11"
    }
  },
  "nbformat": 4,
  "nbformat_minor": 5
}
