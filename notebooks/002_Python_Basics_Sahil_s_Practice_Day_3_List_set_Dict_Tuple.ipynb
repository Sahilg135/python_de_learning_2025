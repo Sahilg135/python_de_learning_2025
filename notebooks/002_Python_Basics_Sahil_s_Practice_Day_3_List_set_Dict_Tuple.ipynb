{
 "cells": [
  {
   "cell_type": "code",
   "execution_count": null,
   "metadata": {
    "colab": {
     "base_uri": "https://localhost:8080/"
    },
    "executionInfo": {
     "elapsed": 22,
     "status": "ok",
     "timestamp": 1749068545949,
     "user": {
      "displayName": "Sahil Gundu",
      "userId": "02742797828543038822"
     },
     "user_tz": -330
    },
    "id": "asZkHBIBgDeE",
    "outputId": "54cf17ad-3a3b-4e0a-bf36-ccb6c338bf5a"
   },
   "outputs": [],
   "source": [
    "s1 = [1, 2, 3, 4]\n",
    "s1"
   ]
  },
  {
   "cell_type": "code",
   "execution_count": null,
   "metadata": {
    "colab": {
     "base_uri": "https://localhost:8080/"
    },
    "executionInfo": {
     "elapsed": 12,
     "status": "ok",
     "timestamp": 1749068625450,
     "user": {
      "displayName": "Sahil Gundu",
      "userId": "02742797828543038822"
     },
     "user_tz": -330
    },
    "id": "XW--h7DdnEaU",
    "outputId": "096d8626-50f4-4608-a89c-d41fba86cf2c"
   },
   "outputs": [],
   "source": [
    "s2 = [\"a\", \"b\", \"c\", \"ferd\"]\n",
    "s2"
   ]
  },
  {
   "cell_type": "code",
   "execution_count": null,
   "metadata": {
    "colab": {
     "base_uri": "https://localhost:8080/"
    },
    "executionInfo": {
     "elapsed": 26,
     "status": "ok",
     "timestamp": 1749068661620,
     "user": {
      "displayName": "Sahil Gundu",
      "userId": "02742797828543038822"
     },
     "user_tz": -330
    },
    "id": "JWGdkenpnEXM",
    "outputId": "26dd6008-cd5d-49aa-d75b-51d4e2fe4580"
   },
   "outputs": [],
   "source": [
    "s3 = [1, 2, 5, s1, s2]\n",
    "s3"
   ]
  },
  {
   "cell_type": "code",
   "execution_count": null,
   "metadata": {
    "colab": {
     "base_uri": "https://localhost:8080/"
    },
    "executionInfo": {
     "elapsed": 31,
     "status": "ok",
     "timestamp": 1749068716519,
     "user": {
      "displayName": "Sahil Gundu",
      "userId": "02742797828543038822"
     },
     "user_tz": -330
    },
    "id": "KEelmix_nEUq",
    "outputId": "26a871df-646a-418b-ea91-5434e5eb5c51"
   },
   "outputs": [],
   "source": [
    "s4 = []\n",
    "type(s4)"
   ]
  },
  {
   "cell_type": "code",
   "execution_count": null,
   "metadata": {
    "colab": {
     "base_uri": "https://localhost:8080/"
    },
    "executionInfo": {
     "elapsed": 35,
     "status": "ok",
     "timestamp": 1749068882672,
     "user": {
      "displayName": "Sahil Gundu",
      "userId": "02742797828543038822"
     },
     "user_tz": -330
    },
    "id": "fy2Jg6RknES7",
    "outputId": "0ac97db0-6848-4909-aed3-1268ae0cf978"
   },
   "outputs": [],
   "source": [
    "bool(s4)"
   ]
  },
  {
   "cell_type": "code",
   "execution_count": null,
   "metadata": {
    "colab": {
     "base_uri": "https://localhost:8080/"
    },
    "executionInfo": {
     "elapsed": 30,
     "status": "ok",
     "timestamp": 1749069094273,
     "user": {
      "displayName": "Sahil Gundu",
      "userId": "02742797828543038822"
     },
     "user_tz": -330
    },
    "id": "2vTkr-JbnERN",
    "outputId": "451cf919-7256-49bd-a4e7-500e22c8e3cf"
   },
   "outputs": [],
   "source": [
    "type(s4)"
   ]
  },
  {
   "cell_type": "code",
   "execution_count": null,
   "metadata": {
    "colab": {
     "base_uri": "https://localhost:8080/"
    },
    "executionInfo": {
     "elapsed": 23,
     "status": "ok",
     "timestamp": 1749069118088,
     "user": {
      "displayName": "Sahil Gundu",
      "userId": "02742797828543038822"
     },
     "user_tz": -330
    },
    "id": "-RM6bPnDnELr",
    "outputId": "5640fda0-c670-42a0-f96b-82e7522dafab"
   },
   "outputs": [],
   "source": [
    "a = \"\"\n",
    "type(a)"
   ]
  },
  {
   "cell_type": "code",
   "execution_count": null,
   "metadata": {
    "colab": {
     "base_uri": "https://localhost:8080/"
    },
    "executionInfo": {
     "elapsed": 28,
     "status": "ok",
     "timestamp": 1749069133869,
     "user": {
      "displayName": "Sahil Gundu",
      "userId": "02742797828543038822"
     },
     "user_tz": -330
    },
    "id": "0kHTkNBPnEIF",
    "outputId": "418274b8-c540-4351-f36d-51810535d854"
   },
   "outputs": [],
   "source": [
    "bool(a)"
   ]
  },
  {
   "cell_type": "code",
   "execution_count": null,
   "metadata": {
    "executionInfo": {
     "elapsed": 55,
     "status": "ok",
     "timestamp": 1749123607257,
     "user": {
      "displayName": "Sahil Gundu",
      "userId": "02742797828543038822"
     },
     "user_tz": -330
    },
    "id": "ws357Z7m3zFo"
   },
   "outputs": [],
   "source": [
    "l1 = [2, 4, 67, \"Abcfg\", 45]"
   ]
  },
  {
   "cell_type": "code",
   "execution_count": null,
   "metadata": {
    "colab": {
     "base_uri": "https://localhost:8080/"
    },
    "executionInfo": {
     "elapsed": 20,
     "status": "ok",
     "timestamp": 1749123909954,
     "user": {
      "displayName": "Sahil Gundu",
      "userId": "02742797828543038822"
     },
     "user_tz": -330
    },
    "id": "sTCaiQ_f3zC5",
    "outputId": "44b1d998-76c1-4d83-bc41-0b1ff39a8043"
   },
   "outputs": [],
   "source": [
    "l1[2]"
   ]
  },
  {
   "cell_type": "code",
   "execution_count": null,
   "metadata": {
    "colab": {
     "base_uri": "https://localhost:8080/"
    },
    "executionInfo": {
     "elapsed": 11,
     "status": "ok",
     "timestamp": 1749124050767,
     "user": {
      "displayName": "Sahil Gundu",
      "userId": "02742797828543038822"
     },
     "user_tz": -330
    },
    "id": "gYE-gV8g3y_0",
    "outputId": "c2a00ca1-23bc-4070-b176-b84c89e58eb9"
   },
   "outputs": [],
   "source": [
    "l1[1:2:1]"
   ]
  },
  {
   "cell_type": "code",
   "execution_count": null,
   "metadata": {
    "colab": {
     "base_uri": "https://localhost:8080/",
     "height": 35
    },
    "executionInfo": {
     "elapsed": 32,
     "status": "ok",
     "timestamp": 1749123814090,
     "user": {
      "displayName": "Sahil Gundu",
      "userId": "02742797828543038822"
     },
     "user_tz": -330
    },
    "id": "oI0LLqhI3y85",
    "outputId": "852738b3-9c14-490d-bcf5-4ecbaffbbaab"
   },
   "outputs": [],
   "source": [
    "string1 = \"SAHIL\"\n",
    "string1[0:2:1]"
   ]
  },
  {
   "cell_type": "code",
   "execution_count": null,
   "metadata": {
    "colab": {
     "base_uri": "https://localhost:8080/"
    },
    "executionInfo": {
     "elapsed": 17,
     "status": "ok",
     "timestamp": 1749124219473,
     "user": {
      "displayName": "Sahil Gundu",
      "userId": "02742797828543038822"
     },
     "user_tz": -330
    },
    "id": "rmIK8llU3y6T",
    "outputId": "c128eea7-9aba-4ca8-d7da-12316f2698ae"
   },
   "outputs": [],
   "source": [
    "l1"
   ]
  },
  {
   "cell_type": "code",
   "execution_count": null,
   "metadata": {
    "colab": {
     "base_uri": "https://localhost:8080/"
    },
    "executionInfo": {
     "elapsed": 46,
     "status": "ok",
     "timestamp": 1749124238747,
     "user": {
      "displayName": "Sahil Gundu",
      "userId": "02742797828543038822"
     },
     "user_tz": -330
    },
    "id": "W5e7b0Mc3y3y",
    "outputId": "a0261ab7-4baa-4975-ce69-a0460e6a97ba"
   },
   "outputs": [],
   "source": [
    "l1[::-1]"
   ]
  },
  {
   "cell_type": "code",
   "execution_count": null,
   "metadata": {
    "colab": {
     "base_uri": "https://localhost:8080/"
    },
    "executionInfo": {
     "elapsed": 26,
     "status": "ok",
     "timestamp": 1749124337967,
     "user": {
      "displayName": "Sahil Gundu",
      "userId": "02742797828543038822"
     },
     "user_tz": -330
    },
    "id": "FcFdYeVI3yzQ",
    "outputId": "ac364bea-7227-4909-ad89-19e42bda3a27"
   },
   "outputs": [],
   "source": [
    "l1"
   ]
  },
  {
   "cell_type": "code",
   "execution_count": null,
   "metadata": {
    "executionInfo": {
     "elapsed": 12,
     "status": "ok",
     "timestamp": 1749124351787,
     "user": {
      "displayName": "Sahil Gundu",
      "userId": "02742797828543038822"
     },
     "user_tz": -330
    },
    "id": "-zM4_nU_3yvq"
   },
   "outputs": [],
   "source": [
    "l1[1] = 41"
   ]
  },
  {
   "cell_type": "code",
   "execution_count": null,
   "metadata": {
    "colab": {
     "base_uri": "https://localhost:8080/"
    },
    "executionInfo": {
     "elapsed": 36,
     "status": "ok",
     "timestamp": 1749124360194,
     "user": {
      "displayName": "Sahil Gundu",
      "userId": "02742797828543038822"
     },
     "user_tz": -330
    },
    "id": "PmD0C7u675xN",
    "outputId": "c94922e3-fe4f-4a12-d327-1f7a7f1367dd"
   },
   "outputs": [],
   "source": [
    "l1"
   ]
  },
  {
   "cell_type": "code",
   "execution_count": null,
   "metadata": {
    "executionInfo": {
     "elapsed": 53,
     "status": "ok",
     "timestamp": 1749124387921,
     "user": {
      "displayName": "Sahil Gundu",
      "userId": "02742797828543038822"
     },
     "user_tz": -330
    },
    "id": "_6Q1diXT75un"
   },
   "outputs": [],
   "source": [
    "l1.append(450)"
   ]
  },
  {
   "cell_type": "code",
   "execution_count": null,
   "metadata": {
    "colab": {
     "base_uri": "https://localhost:8080/"
    },
    "executionInfo": {
     "elapsed": 19,
     "status": "ok",
     "timestamp": 1749124391972,
     "user": {
      "displayName": "Sahil Gundu",
      "userId": "02742797828543038822"
     },
     "user_tz": -330
    },
    "id": "MSxE3yeb75rr",
    "outputId": "eac3f9db-284f-4e1b-a21f-35db1dd6a241"
   },
   "outputs": [],
   "source": [
    "l1"
   ]
  },
  {
   "cell_type": "code",
   "execution_count": null,
   "metadata": {
    "colab": {
     "base_uri": "https://localhost:8080/"
    },
    "executionInfo": {
     "elapsed": 25,
     "status": "ok",
     "timestamp": 1749124426014,
     "user": {
      "displayName": "Sahil Gundu",
      "userId": "02742797828543038822"
     },
     "user_tz": -330
    },
    "id": "MoSq38BM75pF",
    "outputId": "cf90b0d2-6d20-48b6-ca5b-e9ec627936d6"
   },
   "outputs": [],
   "source": [
    "l1[5] = 300\n",
    "l1"
   ]
  },
  {
   "cell_type": "code",
   "execution_count": null,
   "metadata": {
    "colab": {
     "base_uri": "https://localhost:8080/"
    },
    "executionInfo": {
     "elapsed": 22,
     "status": "ok",
     "timestamp": 1749124447173,
     "user": {
      "displayName": "Sahil Gundu",
      "userId": "02742797828543038822"
     },
     "user_tz": -330
    },
    "id": "0jyk_6Ig75mr",
    "outputId": "ec68d47b-2ca0-4527-e642-acc474d5a83e"
   },
   "outputs": [],
   "source": [
    "l1.append(450)\n",
    "l1"
   ]
  },
  {
   "cell_type": "code",
   "execution_count": null,
   "metadata": {
    "colab": {
     "base_uri": "https://localhost:8080/"
    },
    "executionInfo": {
     "elapsed": 21,
     "status": "ok",
     "timestamp": 1749124592653,
     "user": {
      "displayName": "Sahil Gundu",
      "userId": "02742797828543038822"
     },
     "user_tz": -330
    },
    "id": "xtvA_N8975in",
    "outputId": "ca094533-541a-4b0c-c5d5-bb3fb751f6f6"
   },
   "outputs": [],
   "source": [
    "l1.insert(6,350)\n",
    "l1"
   ]
  },
  {
   "cell_type": "code",
   "execution_count": null,
   "metadata": {
    "colab": {
     "base_uri": "https://localhost:8080/"
    },
    "executionInfo": {
     "elapsed": 19,
     "status": "ok",
     "timestamp": 1749124690312,
     "user": {
      "displayName": "Sahil Gundu",
      "userId": "02742797828543038822"
     },
     "user_tz": -330
    },
    "id": "ThWWPKhb75fE",
    "outputId": "05c1a39a-e921-46ac-8650-8ffbd132d90e"
   },
   "outputs": [],
   "source": [
    "l1.remove(300)\n",
    "l1"
   ]
  },
  {
   "cell_type": "code",
   "execution_count": null,
   "metadata": {
    "colab": {
     "base_uri": "https://localhost:8080/"
    },
    "executionInfo": {
     "elapsed": 52,
     "status": "ok",
     "timestamp": 1749124834875,
     "user": {
      "displayName": "Sahil Gundu",
      "userId": "02742797828543038822"
     },
     "user_tz": -330
    },
    "id": "5WQQ9CwQ9Qdk",
    "outputId": "890a8f93-c63b-4a5d-b6d7-d7ed19639776"
   },
   "outputs": [],
   "source": [
    "l1.remove(45)\n",
    "l1"
   ]
  },
  {
   "cell_type": "code",
   "execution_count": null,
   "metadata": {
    "colab": {
     "base_uri": "https://localhost:8080/",
     "height": 35
    },
    "executionInfo": {
     "elapsed": 40,
     "status": "ok",
     "timestamp": 1749124888346,
     "user": {
      "displayName": "Sahil Gundu",
      "userId": "02742797828543038822"
     },
     "user_tz": -330
    },
    "id": "4DheK7Gr9Qbm",
    "outputId": "249c1b06-bd5c-45d4-8f87-4818a457cd6e"
   },
   "outputs": [],
   "source": [
    "string1"
   ]
  },
  {
   "cell_type": "code",
   "execution_count": null,
   "metadata": {
    "colab": {
     "base_uri": "https://localhost:8080/",
     "height": 53
    },
    "executionInfo": {
     "elapsed": 61,
     "status": "ok",
     "timestamp": 1749124976160,
     "user": {
      "displayName": "Sahil Gundu",
      "userId": "02742797828543038822"
     },
     "user_tz": -330
    },
    "id": "oQvVWMBS9QZM",
    "outputId": "9866c900-07cd-4bc2-a1c8-8b400cf9ead0"
   },
   "outputs": [],
   "source": [
    "s = string1.replace(\"SA\",\"RA\")\n",
    "print(s)\n",
    "string1"
   ]
  },
  {
   "cell_type": "code",
   "execution_count": null,
   "metadata": {
    "executionInfo": {
     "elapsed": 26,
     "status": "ok",
     "timestamp": 1749130252529,
     "user": {
      "displayName": "Sahil Gundu",
      "userId": "02742797828543038822"
     },
     "user_tz": -330
    },
    "id": "ppHEPmeh9QTK"
   },
   "outputs": [],
   "source": [
    "l1 = [1, 2, 3]\n",
    "l2 = [4, 5, 6]"
   ]
  },
  {
   "cell_type": "code",
   "execution_count": null,
   "metadata": {
    "colab": {
     "base_uri": "https://localhost:8080/"
    },
    "executionInfo": {
     "elapsed": 20,
     "status": "ok",
     "timestamp": 1749125063332,
     "user": {
      "displayName": "Sahil Gundu",
      "userId": "02742797828543038822"
     },
     "user_tz": -330
    },
    "id": "ftgM4PEj9QQf",
    "outputId": "d081f4be-cac7-4d50-e7f2-75c78c28b89c"
   },
   "outputs": [],
   "source": [
    "l1+l2"
   ]
  },
  {
   "cell_type": "code",
   "execution_count": null,
   "metadata": {
    "executionInfo": {
     "elapsed": 9,
     "status": "ok",
     "timestamp": 1749125123397,
     "user": {
      "displayName": "Sahil Gundu",
      "userId": "02742797828543038822"
     },
     "user_tz": -330
    },
    "id": "7ZdT2F7h9QN0"
   },
   "outputs": [],
   "source": [
    "l3 = l1*4"
   ]
  },
  {
   "cell_type": "code",
   "execution_count": null,
   "metadata": {
    "colab": {
     "base_uri": "https://localhost:8080/"
    },
    "executionInfo": {
     "elapsed": 46,
     "status": "ok",
     "timestamp": 1749125129932,
     "user": {
      "displayName": "Sahil Gundu",
      "userId": "02742797828543038822"
     },
     "user_tz": -330
    },
    "id": "Cj_z5T-J9QKS",
    "outputId": "a9bfb573-834f-4ac9-a49c-08b2d777f8b1"
   },
   "outputs": [],
   "source": [
    "len(l3)"
   ]
  },
  {
   "cell_type": "code",
   "execution_count": null,
   "metadata": {
    "colab": {
     "base_uri": "https://localhost:8080/"
    },
    "executionInfo": {
     "elapsed": 32,
     "status": "ok",
     "timestamp": 1749130256528,
     "user": {
      "displayName": "Sahil Gundu",
      "userId": "02742797828543038822"
     },
     "user_tz": -330
    },
    "id": "1khTjQWI9QHv",
    "outputId": "549ea01b-2934-472a-c7f5-8d56923c9f26"
   },
   "outputs": [],
   "source": [
    "max(l2)"
   ]
  },
  {
   "cell_type": "code",
   "execution_count": null,
   "metadata": {
    "colab": {
     "base_uri": "https://localhost:8080/"
    },
    "executionInfo": {
     "elapsed": 25,
     "status": "ok",
     "timestamp": 1749125183624,
     "user": {
      "displayName": "Sahil Gundu",
      "userId": "02742797828543038822"
     },
     "user_tz": -330
    },
    "id": "q2wFpoG29QEp",
    "outputId": "b5db4df3-0491-49d3-b1fc-3464c7b92c10"
   },
   "outputs": [],
   "source": [
    "min(l2)"
   ]
  },
  {
   "cell_type": "code",
   "execution_count": null,
   "metadata": {
    "colab": {
     "base_uri": "https://localhost:8080/"
    },
    "executionInfo": {
     "elapsed": 22,
     "status": "ok",
     "timestamp": 1749125190898,
     "user": {
      "displayName": "Sahil Gundu",
      "userId": "02742797828543038822"
     },
     "user_tz": -330
    },
    "id": "kjeQK32D9QC5",
    "outputId": "271dc7dc-3e0c-4823-e9b2-61f2a24690ea"
   },
   "outputs": [],
   "source": [
    "sum(l3)"
   ]
  },
  {
   "cell_type": "code",
   "execution_count": null,
   "metadata": {
    "colab": {
     "base_uri": "https://localhost:8080/"
    },
    "executionInfo": {
     "elapsed": 28,
     "status": "ok",
     "timestamp": 1749125448604,
     "user": {
      "displayName": "Sahil Gundu",
      "userId": "02742797828543038822"
     },
     "user_tz": -330
    },
    "id": "OyGlKQg09QBK",
    "outputId": "712dad18-9cbc-456e-923a-72a2aef4607d"
   },
   "outputs": [],
   "source": [
    "l3"
   ]
  },
  {
   "cell_type": "code",
   "execution_count": null,
   "metadata": {
    "colab": {
     "base_uri": "https://localhost:8080/"
    },
    "executionInfo": {
     "elapsed": 15,
     "status": "ok",
     "timestamp": 1749125460179,
     "user": {
      "displayName": "Sahil Gundu",
      "userId": "02742797828543038822"
     },
     "user_tz": -330
    },
    "id": "HaG4mGxE9P6c",
    "outputId": "3d0b1d0c-d87b-47d3-a574-ee7db870a5c8"
   },
   "outputs": [],
   "source": [
    "l3[::-1]"
   ]
  },
  {
   "cell_type": "code",
   "execution_count": null,
   "metadata": {
    "colab": {
     "base_uri": "https://localhost:8080/"
    },
    "executionInfo": {
     "elapsed": 62,
     "status": "ok",
     "timestamp": 1749125526579,
     "user": {
      "displayName": "Sahil Gundu",
      "userId": "02742797828543038822"
     },
     "user_tz": -330
    },
    "id": "B4BvfIZTAJn1",
    "outputId": "502b1f38-219a-400c-db6b-841a1772b87c"
   },
   "outputs": [],
   "source": [
    "l3[::3]"
   ]
  },
  {
   "cell_type": "code",
   "execution_count": null,
   "metadata": {
    "colab": {
     "base_uri": "https://localhost:8080/"
    },
    "executionInfo": {
     "elapsed": 31,
     "status": "ok",
     "timestamp": 1749128973575,
     "user": {
      "displayName": "Sahil Gundu",
      "userId": "02742797828543038822"
     },
     "user_tz": -330
    },
    "id": "MztO11NNAJaI",
    "outputId": "685ed53b-9b57-4203-aa6c-b8aea1d2e936"
   },
   "outputs": [],
   "source": [
    "t1 = (1, 23, 245, 4)\n",
    "t1"
   ]
  },
  {
   "cell_type": "code",
   "execution_count": null,
   "metadata": {
    "colab": {
     "base_uri": "https://localhost:8080/"
    },
    "executionInfo": {
     "elapsed": 39,
     "status": "ok",
     "timestamp": 1749129016702,
     "user": {
      "displayName": "Sahil Gundu",
      "userId": "02742797828543038822"
     },
     "user_tz": -330
    },
    "id": "RxIXs5rUNkJs",
    "outputId": "5787129f-bdc5-41a1-b798-3beec5893564"
   },
   "outputs": [],
   "source": [
    "type(t1)"
   ]
  },
  {
   "cell_type": "code",
   "execution_count": null,
   "metadata": {
    "colab": {
     "base_uri": "https://localhost:8080/"
    },
    "executionInfo": {
     "elapsed": 54,
     "status": "ok",
     "timestamp": 1749129041545,
     "user": {
      "displayName": "Sahil Gundu",
      "userId": "02742797828543038822"
     },
     "user_tz": -330
    },
    "id": "In5E3l4WNkGt",
    "outputId": "e4377ff6-0c5e-4028-983f-e7efcb798fc6"
   },
   "outputs": [],
   "source": [
    "t2 = (1, 23, 245, 4, 1, 245)\n",
    "t2"
   ]
  },
  {
   "cell_type": "code",
   "execution_count": null,
   "metadata": {
    "colab": {
     "base_uri": "https://localhost:8080/"
    },
    "executionInfo": {
     "elapsed": 44,
     "status": "ok",
     "timestamp": 1749129071184,
     "user": {
      "displayName": "Sahil Gundu",
      "userId": "02742797828543038822"
     },
     "user_tz": -330
    },
    "id": "hIoR7qgGNkEC",
    "outputId": "b13a66f2-c04a-4633-8ccd-98c3e5e2414d"
   },
   "outputs": [],
   "source": [
    "t3 = (1, 23, 245, 4, \"abc\", \"def\", 7)\n",
    "t3"
   ]
  },
  {
   "cell_type": "code",
   "execution_count": null,
   "metadata": {
    "colab": {
     "base_uri": "https://localhost:8080/"
    },
    "executionInfo": {
     "elapsed": 12,
     "status": "ok",
     "timestamp": 1749129310549,
     "user": {
      "displayName": "Sahil Gundu",
      "userId": "02742797828543038822"
     },
     "user_tz": -330
    },
    "id": "LsJI5NR-NkA7",
    "outputId": "18b7081b-d532-486d-df68-b6b639be8c1e"
   },
   "outputs": [],
   "source": [
    "t3[2:10:1]"
   ]
  },
  {
   "cell_type": "code",
   "execution_count": null,
   "metadata": {
    "colab": {
     "base_uri": "https://localhost:8080/"
    },
    "executionInfo": {
     "elapsed": 37,
     "status": "ok",
     "timestamp": 1749129502655,
     "user": {
      "displayName": "Sahil Gundu",
      "userId": "02742797828543038822"
     },
     "user_tz": -330
    },
    "id": "eA5Y_5yzNj95",
    "outputId": "5f2be364-d9c1-4771-e59d-d6deab92e228"
   },
   "outputs": [],
   "source": [
    "t3[2]"
   ]
  },
  {
   "cell_type": "code",
   "execution_count": null,
   "metadata": {
    "colab": {
     "base_uri": "https://localhost:8080/"
    },
    "executionInfo": {
     "elapsed": 39,
     "status": "ok",
     "timestamp": 1749129690462,
     "user": {
      "displayName": "Sahil Gundu",
      "userId": "02742797828543038822"
     },
     "user_tz": -330
    },
    "id": "LDfnXRWyNj7B",
    "outputId": "ad226cdf-70f0-4246-ca8e-4f06dae49169"
   },
   "outputs": [],
   "source": [
    "t3 = (1, 23, 245, 4, \"abc\", \"def\", 7, 1, 4)\n",
    "t3"
   ]
  },
  {
   "cell_type": "code",
   "execution_count": null,
   "metadata": {
    "colab": {
     "base_uri": "https://localhost:8080/",
     "height": 141
    },
    "executionInfo": {
     "elapsed": 42,
     "status": "error",
     "timestamp": 1749129753343,
     "user": {
      "displayName": "Sahil Gundu",
      "userId": "02742797828543038822"
     },
     "user_tz": -330
    },
    "id": "SzafYLabNj4H",
    "outputId": "25b9ef65-ce32-4dc2-cf5e-b2a2ab5d3acd"
   },
   "outputs": [],
   "source": [
    "t3[2] = 1002"
   ]
  },
  {
   "cell_type": "code",
   "execution_count": null,
   "metadata": {
    "colab": {
     "base_uri": "https://localhost:8080/"
    },
    "executionInfo": {
     "elapsed": 34,
     "status": "ok",
     "timestamp": 1749129829329,
     "user": {
      "displayName": "Sahil Gundu",
      "userId": "02742797828543038822"
     },
     "user_tz": -330
    },
    "id": "vq8F0BKtNj1I",
    "outputId": "da44023f-08b5-417f-89da-e0023102c06e"
   },
   "outputs": [],
   "source": [
    "t3.count(23)"
   ]
  },
  {
   "cell_type": "code",
   "execution_count": null,
   "metadata": {
    "colab": {
     "base_uri": "https://localhost:8080/"
    },
    "executionInfo": {
     "elapsed": 35,
     "status": "ok",
     "timestamp": 1749129875105,
     "user": {
      "displayName": "Sahil Gundu",
      "userId": "02742797828543038822"
     },
     "user_tz": -330
    },
    "id": "fqp7kdq9Njx4",
    "outputId": "0e318283-3759-4565-ec51-923bdae71d65"
   },
   "outputs": [],
   "source": [
    "t3.index(4)"
   ]
  },
  {
   "cell_type": "code",
   "execution_count": null,
   "metadata": {
    "colab": {
     "base_uri": "https://localhost:8080/"
    },
    "executionInfo": {
     "elapsed": 73,
     "status": "ok",
     "timestamp": 1749130100613,
     "user": {
      "displayName": "Sahil Gundu",
      "userId": "02742797828543038822"
     },
     "user_tz": -330
    },
    "id": "Pu2B7UCpNju2",
    "outputId": "d9bf1e4f-d602-4ec7-9d21-3174cd8eca40"
   },
   "outputs": [],
   "source": [
    "t1"
   ]
  },
  {
   "cell_type": "code",
   "execution_count": null,
   "metadata": {
    "colab": {
     "base_uri": "https://localhost:8080/"
    },
    "executionInfo": {
     "elapsed": 9,
     "status": "ok",
     "timestamp": 1749130106128,
     "user": {
      "displayName": "Sahil Gundu",
      "userId": "02742797828543038822"
     },
     "user_tz": -330
    },
    "id": "CUShdJ0ONjrq",
    "outputId": "1716ad79-2537-4d6c-f541-626ef129bdd7"
   },
   "outputs": [],
   "source": [
    "t3"
   ]
  },
  {
   "cell_type": "code",
   "execution_count": null,
   "metadata": {
    "colab": {
     "base_uri": "https://localhost:8080/"
    },
    "executionInfo": {
     "elapsed": 11,
     "status": "ok",
     "timestamp": 1749130111921,
     "user": {
      "displayName": "Sahil Gundu",
      "userId": "02742797828543038822"
     },
     "user_tz": -330
    },
    "id": "7LmeYzuONjoz",
    "outputId": "db885759-4148-4dce-9f4a-ea6e737002da"
   },
   "outputs": [],
   "source": [
    "t1+t3"
   ]
  },
  {
   "cell_type": "code",
   "execution_count": null,
   "metadata": {
    "colab": {
     "base_uri": "https://localhost:8080/"
    },
    "executionInfo": {
     "elapsed": 11,
     "status": "ok",
     "timestamp": 1749130145781,
     "user": {
      "displayName": "Sahil Gundu",
      "userId": "02742797828543038822"
     },
     "user_tz": -330
    },
    "id": "nwWO7qdjNjl6",
    "outputId": "51953852-faea-45b3-e8ea-d2726f3750ee"
   },
   "outputs": [],
   "source": [
    "len(t3*2)"
   ]
  },
  {
   "cell_type": "code",
   "execution_count": null,
   "metadata": {
    "colab": {
     "base_uri": "https://localhost:8080/"
    },
    "executionInfo": {
     "elapsed": 15,
     "status": "ok",
     "timestamp": 1749130192650,
     "user": {
      "displayName": "Sahil Gundu",
      "userId": "02742797828543038822"
     },
     "user_tz": -330
    },
    "id": "r8aJZQQOSJl2",
    "outputId": "ee2f4176-a63d-4528-8767-32d52b5bffe6"
   },
   "outputs": [],
   "source": [
    "t1"
   ]
  },
  {
   "cell_type": "code",
   "execution_count": null,
   "metadata": {
    "colab": {
     "base_uri": "https://localhost:8080/"
    },
    "executionInfo": {
     "elapsed": 33,
     "status": "ok",
     "timestamp": 1749130443879,
     "user": {
      "displayName": "Sahil Gundu",
      "userId": "02742797828543038822"
     },
     "user_tz": -330
    },
    "id": "TWxCiPgNNji0",
    "outputId": "46590a6e-1568-4feb-aaa6-712db8c49121"
   },
   "outputs": [],
   "source": [
    "sum(t1)"
   ]
  },
  {
   "cell_type": "code",
   "execution_count": null,
   "metadata": {
    "executionInfo": {
     "elapsed": 4,
     "status": "ok",
     "timestamp": 1749130623789,
     "user": {
      "displayName": "Sahil Gundu",
      "userId": "02742797828543038822"
     },
     "user_tz": -330
    },
    "id": "caHdRt7gNjgC"
   },
   "outputs": [],
   "source": [
    "my_list = [1, 32, 233, \"asdf\", 523]"
   ]
  },
  {
   "cell_type": "code",
   "execution_count": null,
   "metadata": {
    "executionInfo": {
     "elapsed": 3,
     "status": "ok",
     "timestamp": 1749130656833,
     "user": {
      "displayName": "Sahil Gundu",
      "userId": "02742797828543038822"
     },
     "user_tz": -330
    },
    "id": "7u_zgrZiNjdE"
   },
   "outputs": [],
   "source": [
    "my_list.remove(32)"
   ]
  },
  {
   "cell_type": "code",
   "execution_count": null,
   "metadata": {
    "colab": {
     "base_uri": "https://localhost:8080/"
    },
    "executionInfo": {
     "elapsed": 10,
     "status": "ok",
     "timestamp": 1749130667094,
     "user": {
      "displayName": "Sahil Gundu",
      "userId": "02742797828543038822"
     },
     "user_tz": -330
    },
    "id": "XoZuvM8CNjaV",
    "outputId": "7d3a8713-0e78-47e5-d3ce-2687e39e6889"
   },
   "outputs": [],
   "source": [
    "my_list"
   ]
  },
  {
   "cell_type": "code",
   "execution_count": null,
   "metadata": {
    "executionInfo": {
     "elapsed": 36,
     "status": "ok",
     "timestamp": 1749131058711,
     "user": {
      "displayName": "Sahil Gundu",
      "userId": "02742797828543038822"
     },
     "user_tz": -330
    },
    "id": "TtzH1DPYNjXL"
   },
   "outputs": [],
   "source": [
    "del my_list[3]"
   ]
  },
  {
   "cell_type": "code",
   "execution_count": null,
   "metadata": {
    "colab": {
     "base_uri": "https://localhost:8080/"
    },
    "executionInfo": {
     "elapsed": 36,
     "status": "ok",
     "timestamp": 1749131069791,
     "user": {
      "displayName": "Sahil Gundu",
      "userId": "02742797828543038822"
     },
     "user_tz": -330
    },
    "id": "bsQEA44FNjUF",
    "outputId": "9db59f01-22e6-443e-b26d-1e5c0771ea95"
   },
   "outputs": [],
   "source": [
    "my_list"
   ]
  },
  {
   "cell_type": "code",
   "execution_count": null,
   "metadata": {
    "executionInfo": {
     "elapsed": 49,
     "status": "ok",
     "timestamp": 1749131324382,
     "user": {
      "displayName": "Sahil Gundu",
      "userId": "02742797828543038822"
     },
     "user_tz": -330
    },
    "id": "idcrTtx8NjQy"
   },
   "outputs": [],
   "source": [
    "my_list.append(1234)"
   ]
  },
  {
   "cell_type": "code",
   "execution_count": null,
   "metadata": {
    "colab": {
     "base_uri": "https://localhost:8080/"
    },
    "executionInfo": {
     "elapsed": 36,
     "status": "ok",
     "timestamp": 1749131328889,
     "user": {
      "displayName": "Sahil Gundu",
      "userId": "02742797828543038822"
     },
     "user_tz": -330
    },
    "id": "LKry_jtRNjN5",
    "outputId": "8d72c97c-58e1-4002-80c8-9bcc78afda1c"
   },
   "outputs": [],
   "source": [
    "my_list"
   ]
  },
  {
   "cell_type": "code",
   "execution_count": null,
   "metadata": {
    "colab": {
     "base_uri": "https://localhost:8080/"
    },
    "executionInfo": {
     "elapsed": 55,
     "status": "ok",
     "timestamp": 1749131347164,
     "user": {
      "displayName": "Sahil Gundu",
      "userId": "02742797828543038822"
     },
     "user_tz": -330
    },
    "id": "OwlPdjlwNjKs",
    "outputId": "30e89ab6-87bd-4d2d-fb01-ded21a55f36f"
   },
   "outputs": [],
   "source": [
    "my_list.pop(1)"
   ]
  },
  {
   "cell_type": "code",
   "execution_count": null,
   "metadata": {
    "colab": {
     "base_uri": "https://localhost:8080/"
    },
    "executionInfo": {
     "elapsed": 38,
     "status": "ok",
     "timestamp": 1749131360488,
     "user": {
      "displayName": "Sahil Gundu",
      "userId": "02742797828543038822"
     },
     "user_tz": -330
    },
    "id": "CMvoO7OrNjHW",
    "outputId": "b7ec5ee4-fb4d-4ad4-d1a3-4910567fdbe4"
   },
   "outputs": [],
   "source": [
    "my_list"
   ]
  },
  {
   "cell_type": "code",
   "execution_count": null,
   "metadata": {
    "colab": {
     "base_uri": "https://localhost:8080/"
    },
    "executionInfo": {
     "elapsed": 46,
     "status": "ok",
     "timestamp": 1749131540321,
     "user": {
      "displayName": "Sahil Gundu",
      "userId": "02742797828543038822"
     },
     "user_tz": -330
    },
    "id": "G7lYCAEQNjEd",
    "outputId": "4d4ab47e-afbe-470b-a48d-bcbc68c6536e"
   },
   "outputs": [],
   "source": [
    "my_list.index(1234)"
   ]
  },
  {
   "cell_type": "code",
   "execution_count": null,
   "metadata": {
    "colab": {
     "base_uri": "https://localhost:8080/",
     "height": 141
    },
    "executionInfo": {
     "elapsed": 215,
     "status": "error",
     "timestamp": 1749165587673,
     "user": {
      "displayName": "Sahil Gundu",
      "userId": "02742797828543038822"
     },
     "user_tz": -330
    },
    "id": "-10ehI16Ni9m",
    "outputId": "4116ba51-68d4-4d60-edfa-5cd51c8b4294"
   },
   "outputs": [],
   "source": [
    "l1"
   ]
  },
  {
   "cell_type": "code",
   "execution_count": null,
   "metadata": {
    "colab": {
     "base_uri": "https://localhost:8080/"
    },
    "executionInfo": {
     "elapsed": 72,
     "status": "ok",
     "timestamp": 1749165736261,
     "user": {
      "displayName": "Sahil Gundu",
      "userId": "02742797828543038822"
     },
     "user_tz": -330
    },
    "id": "eRUGWwkaNipI",
    "outputId": "6033efcb-55cd-4abe-9eae-6666592a1059"
   },
   "outputs": [],
   "source": [
    "l1 = [1.4, 2.4, 3]\n",
    "l1"
   ]
  },
  {
   "cell_type": "code",
   "execution_count": null,
   "metadata": {
    "colab": {
     "base_uri": "https://localhost:8080/"
    },
    "executionInfo": {
     "elapsed": 28,
     "status": "ok",
     "timestamp": 1749165749990,
     "user": {
      "displayName": "Sahil Gundu",
      "userId": "02742797828543038822"
     },
     "user_tz": -330
    },
    "id": "meiteG7HZyFU",
    "outputId": "90cf72ba-409f-433f-9527-f159c464f7c3"
   },
   "outputs": [],
   "source": [
    "sum(l1)"
   ]
  },
  {
   "cell_type": "code",
   "execution_count": null,
   "metadata": {
    "colab": {
     "base_uri": "https://localhost:8080/"
    },
    "executionInfo": {
     "elapsed": 33,
     "status": "ok",
     "timestamp": 1749165677668,
     "user": {
      "displayName": "Sahil Gundu",
      "userId": "02742797828543038822"
     },
     "user_tz": -330
    },
    "id": "h7C3WZ6UNiej",
    "outputId": "6ab8f0cd-a45e-4fb1-eb20-598b74f02768"
   },
   "outputs": [],
   "source": [
    "l2 = [4, 5, 6, [2, 6, 78]]\n",
    "l2"
   ]
  },
  {
   "cell_type": "code",
   "execution_count": null,
   "metadata": {
    "colab": {
     "base_uri": "https://localhost:8080/",
     "height": 141
    },
    "executionInfo": {
     "elapsed": 61,
     "status": "error",
     "timestamp": 1749165719941,
     "user": {
      "displayName": "Sahil Gundu",
      "userId": "02742797828543038822"
     },
     "user_tz": -330
    },
    "id": "7cEEnOUwZo25",
    "outputId": "f95967c7-d79f-4057-992e-822b2aceecaa"
   },
   "outputs": [],
   "source": [
    "max(l2)"
   ]
  },
  {
   "cell_type": "code",
   "execution_count": null,
   "metadata": {
    "colab": {
     "base_uri": "https://localhost:8080/"
    },
    "executionInfo": {
     "elapsed": 35,
     "status": "ok",
     "timestamp": 1749165684162,
     "user": {
      "displayName": "Sahil Gundu",
      "userId": "02742797828543038822"
     },
     "user_tz": -330
    },
    "id": "ZtGRSRE1Nibp",
    "outputId": "b88b6a06-ec91-4ad8-bef2-f60f6e4bd4ce"
   },
   "outputs": [],
   "source": [
    "l1+l2"
   ]
  },
  {
   "cell_type": "code",
   "execution_count": null,
   "metadata": {
    "colab": {
     "base_uri": "https://localhost:8080/",
     "height": 141
    },
    "executionInfo": {
     "elapsed": 121,
     "status": "error",
     "timestamp": 1749165697451,
     "user": {
      "displayName": "Sahil Gundu",
      "userId": "02742797828543038822"
     },
     "user_tz": -330
    },
    "id": "rdcRJeYTNiZ1",
    "outputId": "e0930463-d124-47ea-ae23-c49a4dce5dc1"
   },
   "outputs": [],
   "source": [
    "sum(l1+l2)"
   ]
  },
  {
   "cell_type": "code",
   "execution_count": null,
   "metadata": {
    "colab": {
     "base_uri": "https://localhost:8080/",
     "height": 35
    },
    "executionInfo": {
     "elapsed": 14,
     "status": "ok",
     "timestamp": 1749165775740,
     "user": {
      "displayName": "Sahil Gundu",
      "userId": "02742797828543038822"
     },
     "user_tz": -330
    },
    "id": "dCa9YKz9NiXG",
    "outputId": "0f5ab069-daa5-409f-8570-95a31aa42128"
   },
   "outputs": [],
   "source": [
    "str1 = \"SAHIL\"\n",
    "str1"
   ]
  },
  {
   "cell_type": "code",
   "execution_count": null,
   "metadata": {
    "colab": {
     "base_uri": "https://localhost:8080/",
     "height": 35
    },
    "executionInfo": {
     "elapsed": 107,
     "status": "ok",
     "timestamp": 1749165805227,
     "user": {
      "displayName": "Sahil Gundu",
      "userId": "02742797828543038822"
     },
     "user_tz": -330
    },
    "id": "NAHzUxy4NiR5",
    "outputId": "6979fe7d-543e-4afc-c3ff-ec4bac30b549"
   },
   "outputs": [],
   "source": [
    "str1[::-1]"
   ]
  },
  {
   "cell_type": "code",
   "execution_count": null,
   "metadata": {
    "colab": {
     "base_uri": "https://localhost:8080/"
    },
    "executionInfo": {
     "elapsed": 43,
     "status": "ok",
     "timestamp": 1749166572488,
     "user": {
      "displayName": "Sahil Gundu",
      "userId": "02742797828543038822"
     },
     "user_tz": -330
    },
    "id": "SBZKJ5fGNiOU",
    "outputId": "0c4a814f-125b-449b-a5cc-e2926a067a13"
   },
   "outputs": [],
   "source": [
    "l1"
   ]
  },
  {
   "cell_type": "code",
   "execution_count": null,
   "metadata": {
    "colab": {
     "base_uri": "https://localhost:8080/"
    },
    "executionInfo": {
     "elapsed": 39,
     "status": "ok",
     "timestamp": 1749166604648,
     "user": {
      "displayName": "Sahil Gundu",
      "userId": "02742797828543038822"
     },
     "user_tz": -330
    },
    "id": "nlUk2N6bdAGG",
    "outputId": "99227e5c-6247-4cc4-b25d-65cc0086d0e3"
   },
   "outputs": [],
   "source": [
    "tuple(l1)"
   ]
  },
  {
   "cell_type": "code",
   "execution_count": null,
   "metadata": {
    "colab": {
     "base_uri": "https://localhost:8080/"
    },
    "executionInfo": {
     "elapsed": 61,
     "status": "ok",
     "timestamp": 1749166644875,
     "user": {
      "displayName": "Sahil Gundu",
      "userId": "02742797828543038822"
     },
     "user_tz": -330
    },
    "id": "R1YkBBwLdKeO",
    "outputId": "b0724abc-1272-4dc5-d9cd-9b5b07b6646d"
   },
   "outputs": [],
   "source": [
    "t1 = tuple(l1)\n",
    "t1"
   ]
  },
  {
   "cell_type": "code",
   "execution_count": null,
   "metadata": {
    "colab": {
     "base_uri": "https://localhost:8080/"
    },
    "executionInfo": {
     "elapsed": 55,
     "status": "ok",
     "timestamp": 1749166657531,
     "user": {
      "displayName": "Sahil Gundu",
      "userId": "02742797828543038822"
     },
     "user_tz": -330
    },
    "id": "Zl7ncJ7TdAC2",
    "outputId": "05a669d0-31d4-4463-bb7c-5cf0a125cd93"
   },
   "outputs": [],
   "source": [
    "l1 = list(tuple(l1))\n",
    "l1"
   ]
  },
  {
   "cell_type": "code",
   "execution_count": null,
   "metadata": {
    "colab": {
     "base_uri": "https://localhost:8080/"
    },
    "executionInfo": {
     "elapsed": 47,
     "status": "ok",
     "timestamp": 1749166682133,
     "user": {
      "displayName": "Sahil Gundu",
      "userId": "02742797828543038822"
     },
     "user_tz": -330
    },
    "id": "pb-G7phXdAAA",
    "outputId": "ee005e56-ac75-4750-b99c-41c191449ea1"
   },
   "outputs": [],
   "source": [
    "a = 12\n",
    "a"
   ]
  },
  {
   "cell_type": "code",
   "execution_count": null,
   "metadata": {
    "colab": {
     "base_uri": "https://localhost:8080/"
    },
    "executionInfo": {
     "elapsed": 12,
     "status": "ok",
     "timestamp": 1749166693037,
     "user": {
      "displayName": "Sahil Gundu",
      "userId": "02742797828543038822"
     },
     "user_tz": -330
    },
    "id": "RLAhFC5uc_9K",
    "outputId": "9086cb76-57d1-4cf8-9f0b-55a7f2b3f3dc"
   },
   "outputs": [],
   "source": [
    "type(a)"
   ]
  },
  {
   "cell_type": "code",
   "execution_count": null,
   "metadata": {
    "colab": {
     "base_uri": "https://localhost:8080/",
     "height": 159
    },
    "executionInfo": {
     "elapsed": 150,
     "status": "error",
     "timestamp": 1749166715619,
     "user": {
      "displayName": "Sahil Gundu",
      "userId": "02742797828543038822"
     },
     "user_tz": -330
    },
    "id": "6yprj8Hlc_6G",
    "outputId": "e55874fc-74b1-4904-bd76-27c67f2d412c"
   },
   "outputs": [],
   "source": [
    "l2 = list(a)\n",
    "l2"
   ]
  },
  {
   "cell_type": "code",
   "execution_count": null,
   "metadata": {
    "colab": {
     "base_uri": "https://localhost:8080/",
     "height": 159
    },
    "executionInfo": {
     "elapsed": 55,
     "status": "error",
     "timestamp": 1749166741949,
     "user": {
      "displayName": "Sahil Gundu",
      "userId": "02742797828543038822"
     },
     "user_tz": -330
    },
    "id": "mHDlDfIRc_3L",
    "outputId": "79346082-122b-48f4-da5e-4d82fc9db21c"
   },
   "outputs": [],
   "source": [
    "t2 = list(a)\n",
    "t2"
   ]
  },
  {
   "cell_type": "code",
   "execution_count": null,
   "metadata": {
    "colab": {
     "base_uri": "https://localhost:8080/"
    },
    "executionInfo": {
     "elapsed": 38,
     "status": "ok",
     "timestamp": 1749167921428,
     "user": {
      "displayName": "Sahil Gundu",
      "userId": "02742797828543038822"
     },
     "user_tz": -330
    },
    "id": "zKwMGHoOc_z-",
    "outputId": "f4aef6b7-60ca-4b24-b3b8-0e13df483c44"
   },
   "outputs": [],
   "source": [
    "str3 = \"Sahilgundu\"\n",
    "\n",
    "l3 = list(str3)\n",
    "\n",
    "l3"
   ]
  },
  {
   "cell_type": "code",
   "execution_count": null,
   "metadata": {
    "colab": {
     "base_uri": "https://localhost:8080/",
     "height": 35
    },
    "executionInfo": {
     "elapsed": 15,
     "status": "ok",
     "timestamp": 1749168578496,
     "user": {
      "displayName": "Sahil Gundu",
      "userId": "02742797828543038822"
     },
     "user_tz": -330
    },
    "id": "vWSn7aApc_xM",
    "outputId": "ad89da2a-989e-413b-af31-efe4d63bf15f"
   },
   "outputs": [],
   "source": [
    "str2 = '-'.join(l3)\n",
    "str2"
   ]
  },
  {
   "cell_type": "code",
   "execution_count": null,
   "metadata": {
    "colab": {
     "base_uri": "https://localhost:8080/"
    },
    "executionInfo": {
     "elapsed": 14,
     "status": "ok",
     "timestamp": 1749170954466,
     "user": {
      "displayName": "Sahil Gundu",
      "userId": "02742797828543038822"
     },
     "user_tz": -330
    },
    "id": "48agWZybc_uF",
    "outputId": "90b5d6b7-29ca-4f5d-adc0-7dce4f528160"
   },
   "outputs": [],
   "source": [
    "d1 = {\"Name\":\"SAHIL\", \"Age\":30, \"Salary\":\"48lacsperanum\" }\n",
    "d1"
   ]
  },
  {
   "cell_type": "code",
   "execution_count": null,
   "metadata": {
    "colab": {
     "base_uri": "https://localhost:8080/"
    },
    "executionInfo": {
     "elapsed": 14,
     "status": "ok",
     "timestamp": 1749171005470,
     "user": {
      "displayName": "Sahil Gundu",
      "userId": "02742797828543038822"
     },
     "user_tz": -330
    },
    "id": "kHtr-HFoc_rc",
    "outputId": "03ffe965-e89c-4257-e4e1-f66b490296ef"
   },
   "outputs": [],
   "source": [
    "d2 = {}\n",
    "type(d2)"
   ]
  },
  {
   "cell_type": "code",
   "execution_count": null,
   "metadata": {
    "colab": {
     "base_uri": "https://localhost:8080/"
    },
    "executionInfo": {
     "elapsed": 15,
     "status": "ok",
     "timestamp": 1749172827038,
     "user": {
      "displayName": "Sahil Gundu",
      "userId": "02742797828543038822"
     },
     "user_tz": -330
    },
    "id": "aw-hoWDQc_oe",
    "outputId": "96abd13f-9c98-4e55-ed82-dd781ccfe602"
   },
   "outputs": [],
   "source": [
    "d1[\"Age\"]"
   ]
  },
  {
   "cell_type": "code",
   "execution_count": null,
   "metadata": {
    "colab": {
     "base_uri": "https://localhost:8080/"
    },
    "executionInfo": {
     "elapsed": 15,
     "status": "ok",
     "timestamp": 1749172866325,
     "user": {
      "displayName": "Sahil Gundu",
      "userId": "02742797828543038822"
     },
     "user_tz": -330
    },
    "id": "JToNGqJUt84L",
    "outputId": "f16a0cd3-c55a-4912-9587-49a3824f77d7"
   },
   "outputs": [],
   "source": [
    "d1[\"Age\"] = 35\n",
    "d1"
   ]
  },
  {
   "cell_type": "code",
   "execution_count": null,
   "metadata": {
    "colab": {
     "base_uri": "https://localhost:8080/"
    },
    "executionInfo": {
     "elapsed": 34,
     "status": "ok",
     "timestamp": 1749173009848,
     "user": {
      "displayName": "Sahil Gundu",
      "userId": "02742797828543038822"
     },
     "user_tz": -330
    },
    "id": "OJTsLT8_t81I",
    "outputId": "285a0d64-7a88-42f7-c87d-6667cc2909f1"
   },
   "outputs": [],
   "source": [
    "d1[\"Country\"] = \"Switzerland\"\n",
    "d1"
   ]
  },
  {
   "cell_type": "code",
   "execution_count": null,
   "metadata": {
    "colab": {
     "base_uri": "https://localhost:8080/"
    },
    "executionInfo": {
     "elapsed": 14,
     "status": "ok",
     "timestamp": 1749173158419,
     "user": {
      "displayName": "Sahil Gundu",
      "userId": "02742797828543038822"
     },
     "user_tz": -330
    },
    "id": "LfD7Vmgf2DkA",
    "outputId": "b46319c0-9b71-431e-f1cd-8572a272e9c8"
   },
   "outputs": [],
   "source": [
    "d1"
   ]
  },
  {
   "cell_type": "code",
   "execution_count": null,
   "metadata": {
    "colab": {
     "base_uri": "https://localhost:8080/",
     "height": 35
    },
    "executionInfo": {
     "elapsed": 75,
     "status": "ok",
     "timestamp": 1749173182406,
     "user": {
      "displayName": "Sahil Gundu",
      "userId": "02742797828543038822"
     },
     "user_tz": -330
    },
    "id": "kyFXcfy8t8wj",
    "outputId": "976c192d-41ae-42aa-fa45-9d0c7f3b11e5"
   },
   "outputs": [],
   "source": [
    "country_name = d1.pop(\"Country\")\n",
    "country_name"
   ]
  },
  {
   "cell_type": "code",
   "execution_count": null,
   "metadata": {
    "colab": {
     "base_uri": "https://localhost:8080/"
    },
    "executionInfo": {
     "elapsed": 46,
     "status": "ok",
     "timestamp": 1749173190799,
     "user": {
      "displayName": "Sahil Gundu",
      "userId": "02742797828543038822"
     },
     "user_tz": -330
    },
    "id": "TaDqSSFkt8sT",
    "outputId": "c491ab96-de88-4433-d2ba-92c510e8ec0c"
   },
   "outputs": [],
   "source": [
    "d1"
   ]
  },
  {
   "cell_type": "code",
   "execution_count": null,
   "metadata": {
    "executionInfo": {
     "elapsed": 3,
     "status": "ok",
     "timestamp": 1749173226564,
     "user": {
      "displayName": "Sahil Gundu",
      "userId": "02742797828543038822"
     },
     "user_tz": -330
    },
    "id": "bPdpUJr1t8pD"
   },
   "outputs": [],
   "source": [
    "d1[\"age\"] = 35"
   ]
  },
  {
   "cell_type": "code",
   "execution_count": null,
   "metadata": {
    "executionInfo": {
     "elapsed": 51,
     "status": "ok",
     "timestamp": 1749173251400,
     "user": {
      "displayName": "Sahil Gundu",
      "userId": "02742797828543038822"
     },
     "user_tz": -330
    },
    "id": "OPkifNUGt8lx"
   },
   "outputs": [],
   "source": [
    "d1[\"Country\"] = \"Switzerland\""
   ]
  },
  {
   "cell_type": "code",
   "execution_count": null,
   "metadata": {
    "colab": {
     "base_uri": "https://localhost:8080/"
    },
    "executionInfo": {
     "elapsed": 52,
     "status": "ok",
     "timestamp": 1749173265343,
     "user": {
      "displayName": "Sahil Gundu",
      "userId": "02742797828543038822"
     },
     "user_tz": -330
    },
    "id": "rvjc6Kk-t8in",
    "outputId": "366dbc5d-0680-48b6-b03a-6960c01cc87e"
   },
   "outputs": [],
   "source": [
    "d1"
   ]
  },
  {
   "cell_type": "code",
   "execution_count": null,
   "metadata": {
    "colab": {
     "base_uri": "https://localhost:8080/"
    },
    "executionInfo": {
     "elapsed": 43,
     "status": "ok",
     "timestamp": 1749173273949,
     "user": {
      "displayName": "Sahil Gundu",
      "userId": "02742797828543038822"
     },
     "user_tz": -330
    },
    "id": "NE_RhtUdt8ft",
    "outputId": "d59541a7-393a-45f0-af89-db2f06b5f8c5"
   },
   "outputs": [],
   "source": [
    "len(d1)"
   ]
  },
  {
   "cell_type": "code",
   "execution_count": null,
   "metadata": {
    "colab": {
     "base_uri": "https://localhost:8080/"
    },
    "executionInfo": {
     "elapsed": 41,
     "status": "ok",
     "timestamp": 1749173404911,
     "user": {
      "displayName": "Sahil Gundu",
      "userId": "02742797828543038822"
     },
     "user_tz": -330
    },
    "id": "TsVp83g2t8b5",
    "outputId": "8e6e4c99-cf6a-46c0-8b8a-99046a209b45"
   },
   "outputs": [],
   "source": [
    "d1[\"Flat\"] = \"TCG\"\n",
    "d1"
   ]
  },
  {
   "cell_type": "code",
   "execution_count": null,
   "metadata": {
    "executionInfo": {
     "elapsed": 7,
     "status": "ok",
     "timestamp": 1749173431468,
     "user": {
      "displayName": "Sahil Gundu",
      "userId": "02742797828543038822"
     },
     "user_tz": -330
    },
    "id": "AEaYY4U9t8Y6"
   },
   "outputs": [],
   "source": [
    "del d1[\"Flat\"]"
   ]
  },
  {
   "cell_type": "code",
   "execution_count": null,
   "metadata": {
    "colab": {
     "base_uri": "https://localhost:8080/"
    },
    "executionInfo": {
     "elapsed": 44,
     "status": "ok",
     "timestamp": 1749173436329,
     "user": {
      "displayName": "Sahil Gundu",
      "userId": "02742797828543038822"
     },
     "user_tz": -330
    },
    "id": "ysa87SXEt8Vg",
    "outputId": "11e3f5c3-a5d8-4c40-dce8-740e11905da2"
   },
   "outputs": [],
   "source": [
    "d1"
   ]
  },
  {
   "cell_type": "code",
   "execution_count": null,
   "metadata": {
    "executionInfo": {
     "elapsed": 60,
     "status": "ok",
     "timestamp": 1749174461696,
     "user": {
      "displayName": "Sahil Gundu",
      "userId": "02742797828543038822"
     },
     "user_tz": -330
    },
    "id": "hScg-dBQt8R_"
   },
   "outputs": [],
   "source": [
    "d2 = {\"Weight\": 65, \"age\": 32}"
   ]
  },
  {
   "cell_type": "code",
   "execution_count": null,
   "metadata": {
    "colab": {
     "base_uri": "https://localhost:8080/"
    },
    "executionInfo": {
     "elapsed": 17,
     "status": "ok",
     "timestamp": 1749174568857,
     "user": {
      "displayName": "Sahil Gundu",
      "userId": "02742797828543038822"
     },
     "user_tz": -330
    },
    "id": "stVNgEOe7bnF",
    "outputId": "30dc3200-2587-4cbc-f8dd-3ede2c441889"
   },
   "outputs": [],
   "source": [
    "d2"
   ]
  },
  {
   "cell_type": "code",
   "execution_count": null,
   "metadata": {
    "executionInfo": {
     "elapsed": 25,
     "status": "ok",
     "timestamp": 1749174546012,
     "user": {
      "displayName": "Sahil Gundu",
      "userId": "02742797828543038822"
     },
     "user_tz": -330
    },
    "id": "Gt1zT0Xpc_jJ"
   },
   "outputs": [],
   "source": [
    "d1.update(d2)"
   ]
  },
  {
   "cell_type": "code",
   "execution_count": null,
   "metadata": {
    "colab": {
     "base_uri": "https://localhost:8080/"
    },
    "executionInfo": {
     "elapsed": 37,
     "status": "ok",
     "timestamp": 1749174593366,
     "user": {
      "displayName": "Sahil Gundu",
      "userId": "02742797828543038822"
     },
     "user_tz": -330
    },
    "id": "4HCTzucUc_e-",
    "outputId": "3ab3b46a-1e73-47f7-94d8-8cefa3bd3e52"
   },
   "outputs": [],
   "source": [
    "d1"
   ]
  },
  {
   "cell_type": "code",
   "execution_count": null,
   "metadata": {
    "colab": {
     "base_uri": "https://localhost:8080/"
    },
    "executionInfo": {
     "elapsed": 18,
     "status": "ok",
     "timestamp": 1749174662034,
     "user": {
      "displayName": "Sahil Gundu",
      "userId": "02742797828543038822"
     },
     "user_tz": -330
    },
    "id": "lMqM8V4Kc_bb",
    "outputId": "9ea21005-3781-4deb-a8fd-0eff1d5b97ba"
   },
   "outputs": [],
   "source": [
    "d2"
   ]
  },
  {
   "cell_type": "code",
   "execution_count": null,
   "metadata": {
    "executionInfo": {
     "elapsed": 3,
     "status": "ok",
     "timestamp": 1749174794769,
     "user": {
      "displayName": "Sahil Gundu",
      "userId": "02742797828543038822"
     },
     "user_tz": -330
    },
    "id": "9MueZ-ql70Zs"
   },
   "outputs": [],
   "source": [
    "d3 = {\"LastName\":\"Gundu\", \"Middle\":\"Ramesh\", \"Mother\":\"Mangala\", \"age\":29}"
   ]
  },
  {
   "cell_type": "code",
   "execution_count": null,
   "metadata": {
    "colab": {
     "base_uri": "https://localhost:8080/"
    },
    "executionInfo": {
     "elapsed": 60,
     "status": "ok",
     "timestamp": 1749174798468,
     "user": {
      "displayName": "Sahil Gundu",
      "userId": "02742797828543038822"
     },
     "user_tz": -330
    },
    "id": "VicBjwIV70W2",
    "outputId": "cb409bf1-03fd-4bdd-e25d-53153c5a2ec9"
   },
   "outputs": [],
   "source": [
    "d3"
   ]
  },
  {
   "cell_type": "code",
   "execution_count": null,
   "metadata": {
    "executionInfo": {
     "elapsed": 6,
     "status": "ok",
     "timestamp": 1749174905571,
     "user": {
      "displayName": "Sahil Gundu",
      "userId": "02742797828543038822"
     },
     "user_tz": -330
    },
    "id": "e7EbdsiT70T-"
   },
   "outputs": [],
   "source": [
    "d4 = {**d2, **d3}"
   ]
  },
  {
   "cell_type": "code",
   "execution_count": null,
   "metadata": {
    "colab": {
     "base_uri": "https://localhost:8080/"
    },
    "executionInfo": {
     "elapsed": 19,
     "status": "ok",
     "timestamp": 1749174911676,
     "user": {
      "displayName": "Sahil Gundu",
      "userId": "02742797828543038822"
     },
     "user_tz": -330
    },
    "id": "wBWqLkK170RI",
    "outputId": "892db962-d086-4946-af75-764e15b2658f"
   },
   "outputs": [],
   "source": [
    "d4"
   ]
  },
  {
   "cell_type": "code",
   "execution_count": null,
   "metadata": {
    "executionInfo": {
     "elapsed": 3,
     "status": "ok",
     "timestamp": 1749180098968,
     "user": {
      "displayName": "Sahil Gundu",
      "userId": "02742797828543038822"
     },
     "user_tz": -330
    },
    "id": "R5NhgEWv70MO"
   },
   "outputs": [],
   "source": [
    "d10 = d4.keys()"
   ]
  },
  {
   "cell_type": "code",
   "execution_count": null,
   "metadata": {
    "colab": {
     "base_uri": "https://localhost:8080/"
    },
    "executionInfo": {
     "elapsed": 47,
     "status": "ok",
     "timestamp": 1749180105623,
     "user": {
      "displayName": "Sahil Gundu",
      "userId": "02742797828543038822"
     },
     "user_tz": -330
    },
    "id": "VYD2XqsyQjlh",
    "outputId": "fb7addb1-3d7e-48d0-bfcb-a8eafe0be1bd"
   },
   "outputs": [],
   "source": [
    "d10"
   ]
  },
  {
   "cell_type": "code",
   "execution_count": null,
   "metadata": {
    "colab": {
     "base_uri": "https://localhost:8080/"
    },
    "executionInfo": {
     "elapsed": 38,
     "status": "ok",
     "timestamp": 1749180115773,
     "user": {
      "displayName": "Sahil Gundu",
      "userId": "02742797828543038822"
     },
     "user_tz": -330
    },
    "id": "dSxZzHfQQlSN",
    "outputId": "84f36f97-29b8-4bf3-88fb-b45ad55ddbba"
   },
   "outputs": [],
   "source": [
    "type(d10)"
   ]
  },
  {
   "cell_type": "code",
   "execution_count": null,
   "metadata": {
    "colab": {
     "base_uri": "https://localhost:8080/"
    },
    "executionInfo": {
     "elapsed": 56,
     "status": "ok",
     "timestamp": 1749176386385,
     "user": {
      "displayName": "Sahil Gundu",
      "userId": "02742797828543038822"
     },
     "user_tz": -330
    },
    "id": "B9NWgwku70Gu",
    "outputId": "717a4668-c09d-4b84-fc55-8d0e7f4a6b7a"
   },
   "outputs": [],
   "source": [
    "type(d4.keys())"
   ]
  },
  {
   "cell_type": "code",
   "execution_count": null,
   "metadata": {
    "colab": {
     "base_uri": "https://localhost:8080/"
    },
    "executionInfo": {
     "elapsed": 20,
     "status": "ok",
     "timestamp": 1749176580435,
     "user": {
      "displayName": "Sahil Gundu",
      "userId": "02742797828543038822"
     },
     "user_tz": -330
    },
    "id": "xzsOsglO70Dh",
    "outputId": "987a5ccc-f2cf-4e29-e636-653fe12fd3b8"
   },
   "outputs": [],
   "source": [
    "l1 = list(d4.keys())\n",
    "l1"
   ]
  },
  {
   "cell_type": "code",
   "execution_count": null,
   "metadata": {
    "colab": {
     "base_uri": "https://localhost:8080/"
    },
    "executionInfo": {
     "elapsed": 38,
     "status": "ok",
     "timestamp": 1749176613508,
     "user": {
      "displayName": "Sahil Gundu",
      "userId": "02742797828543038822"
     },
     "user_tz": -330
    },
    "id": "KPohM_jp70At",
    "outputId": "1e313052-4be5-4cf6-fe66-ac89b38d4a41"
   },
   "outputs": [],
   "source": [
    "d4.values()"
   ]
  },
  {
   "cell_type": "code",
   "execution_count": null,
   "metadata": {
    "colab": {
     "base_uri": "https://localhost:8080/"
    },
    "executionInfo": {
     "elapsed": 20,
     "status": "ok",
     "timestamp": 1749176630313,
     "user": {
      "displayName": "Sahil Gundu",
      "userId": "02742797828543038822"
     },
     "user_tz": -330
    },
    "id": "JEhM86yk7z9S",
    "outputId": "51cfaee7-7dfb-46e2-8372-e0bdee52a3ca"
   },
   "outputs": [],
   "source": [
    "type(d4.values())"
   ]
  },
  {
   "cell_type": "code",
   "execution_count": null,
   "metadata": {
    "colab": {
     "base_uri": "https://localhost:8080/"
    },
    "executionInfo": {
     "elapsed": 43,
     "status": "ok",
     "timestamp": 1749176664013,
     "user": {
      "displayName": "Sahil Gundu",
      "userId": "02742797828543038822"
     },
     "user_tz": -330
    },
    "id": "Sh3E8Wk67z5i",
    "outputId": "e63f1ee5-77aa-4fc8-ba34-32cef7a0ff6c"
   },
   "outputs": [],
   "source": [
    "l2 = list(d4.values())\n",
    "l2"
   ]
  },
  {
   "cell_type": "code",
   "execution_count": null,
   "metadata": {
    "colab": {
     "base_uri": "https://localhost:8080/"
    },
    "executionInfo": {
     "elapsed": 15,
     "status": "ok",
     "timestamp": 1749176678905,
     "user": {
      "displayName": "Sahil Gundu",
      "userId": "02742797828543038822"
     },
     "user_tz": -330
    },
    "id": "vG2awe3rDW8C",
    "outputId": "c22a9fe3-d038-4603-cfcf-9bbe351de9d8"
   },
   "outputs": [],
   "source": [
    "d4.items()"
   ]
  },
  {
   "cell_type": "code",
   "execution_count": null,
   "metadata": {
    "colab": {
     "base_uri": "https://localhost:8080/"
    },
    "executionInfo": {
     "elapsed": 50,
     "status": "ok",
     "timestamp": 1749176702580,
     "user": {
      "displayName": "Sahil Gundu",
      "userId": "02742797828543038822"
     },
     "user_tz": -330
    },
    "id": "Rt5Mu_noDW4l",
    "outputId": "b6ba04b3-82e5-4fb4-f64c-035aa9f4eafc"
   },
   "outputs": [],
   "source": [
    "l3 = list(d4.items())\n",
    "l3"
   ]
  },
  {
   "cell_type": "code",
   "execution_count": null,
   "metadata": {
    "colab": {
     "base_uri": "https://localhost:8080/"
    },
    "executionInfo": {
     "elapsed": 47,
     "status": "ok",
     "timestamp": 1749177273699,
     "user": {
      "displayName": "Sahil Gundu",
      "userId": "02742797828543038822"
     },
     "user_tz": -330
    },
    "id": "z_TLZv96FsZG",
    "outputId": "79353453-9417-4eb7-ccd5-9725e3d8f272"
   },
   "outputs": [],
   "source": [
    "for i in d4:\n",
    "    print(i)"
   ]
  },
  {
   "cell_type": "code",
   "execution_count": null,
   "metadata": {
    "colab": {
     "base_uri": "https://localhost:8080/"
    },
    "executionInfo": {
     "elapsed": 16,
     "status": "ok",
     "timestamp": 1749176920306,
     "user": {
      "displayName": "Sahil Gundu",
      "userId": "02742797828543038822"
     },
     "user_tz": -330
    },
    "id": "5ipL-Sw9DW1v",
    "outputId": "c21c1d62-226d-440e-a13b-90ee6fba413c"
   },
   "outputs": [],
   "source": [
    "for i in d4.keys():\n",
    "    print(i)"
   ]
  },
  {
   "cell_type": "code",
   "execution_count": null,
   "metadata": {
    "colab": {
     "base_uri": "https://localhost:8080/"
    },
    "executionInfo": {
     "elapsed": 16,
     "status": "ok",
     "timestamp": 1749176944909,
     "user": {
      "displayName": "Sahil Gundu",
      "userId": "02742797828543038822"
     },
     "user_tz": -330
    },
    "id": "9C9HJbcWDWyM",
    "outputId": "3a99f83e-8fe7-4514-ab15-b749999ba96a"
   },
   "outputs": [],
   "source": [
    "for i in d4.values():\n",
    "    print(i)"
   ]
  },
  {
   "cell_type": "code",
   "execution_count": null,
   "metadata": {
    "colab": {
     "base_uri": "https://localhost:8080/"
    },
    "executionInfo": {
     "elapsed": 39,
     "status": "ok",
     "timestamp": 1749176956433,
     "user": {
      "displayName": "Sahil Gundu",
      "userId": "02742797828543038822"
     },
     "user_tz": -330
    },
    "id": "159nqaHwDWus",
    "outputId": "62c430e7-f52d-4839-d682-898c2e65e212"
   },
   "outputs": [],
   "source": [
    "for i in d4.items():\n",
    "    print(i)"
   ]
  },
  {
   "cell_type": "code",
   "execution_count": null,
   "metadata": {
    "colab": {
     "base_uri": "https://localhost:8080/"
    },
    "executionInfo": {
     "elapsed": 26,
     "status": "ok",
     "timestamp": 1749177003323,
     "user": {
      "displayName": "Sahil Gundu",
      "userId": "02742797828543038822"
     },
     "user_tz": -330
    },
    "id": "i2fBWq7FDWi1",
    "outputId": "bca00593-6466-4cb1-e038-5d6416554499"
   },
   "outputs": [],
   "source": [
    "for i in l3:\n",
    "  print(i)"
   ]
  },
  {
   "cell_type": "code",
   "execution_count": null,
   "metadata": {
    "colab": {
     "base_uri": "https://localhost:8080/"
    },
    "executionInfo": {
     "elapsed": 20,
     "status": "ok",
     "timestamp": 1749177111002,
     "user": {
      "displayName": "Sahil Gundu",
      "userId": "02742797828543038822"
     },
     "user_tz": -330
    },
    "id": "0Uqiyf8tDWEU",
    "outputId": "165e0849-c549-4ab1-cd13-364274096422"
   },
   "outputs": [],
   "source": [
    "for i in d4.items():\n",
    "    print(type(i))"
   ]
  },
  {
   "cell_type": "code",
   "execution_count": null,
   "metadata": {
    "colab": {
     "base_uri": "https://localhost:8080/"
    },
    "executionInfo": {
     "elapsed": 46,
     "status": "ok",
     "timestamp": 1749177766254,
     "user": {
      "displayName": "Sahil Gundu",
      "userId": "02742797828543038822"
     },
     "user_tz": -330
    },
    "id": "K_Qxu8x-HoBx",
    "outputId": "05a2ca26-14cf-4c84-f81b-6a0dab0e8ca1"
   },
   "outputs": [],
   "source": [
    "d4"
   ]
  },
  {
   "cell_type": "code",
   "execution_count": null,
   "metadata": {
    "colab": {
     "base_uri": "https://localhost:8080/"
    },
    "executionInfo": {
     "elapsed": 16,
     "status": "ok",
     "timestamp": 1749177815133,
     "user": {
      "displayName": "Sahil Gundu",
      "userId": "02742797828543038822"
     },
     "user_tz": -330
    },
    "id": "H2y1nIZLHn-k",
    "outputId": "654c127a-a3e5-43dd-b6c9-736c475b2a09"
   },
   "outputs": [],
   "source": [
    "d4[\"Brain\"] = 65\n",
    "d4"
   ]
  },
  {
   "cell_type": "code",
   "execution_count": null,
   "metadata": {
    "colab": {
     "base_uri": "https://localhost:8080/"
    },
    "executionInfo": {
     "elapsed": 31,
     "status": "ok",
     "timestamp": 1749178835695,
     "user": {
      "displayName": "Sahil Gundu",
      "userId": "02742797828543038822"
     },
     "user_tz": -330
    },
    "id": "-PCr8T_cHn7X",
    "outputId": "b083878c-1a26-46bb-aecd-931c16da1be2"
   },
   "outputs": [],
   "source": [
    "d5 = {(1,2,4):\"Sahil\", 2:\"Ramesh\", \"Last\":\"Gundu\"}\n",
    "d5"
   ]
  },
  {
   "cell_type": "code",
   "execution_count": null,
   "metadata": {
    "colab": {
     "base_uri": "https://localhost:8080/"
    },
    "executionInfo": {
     "elapsed": 15,
     "status": "ok",
     "timestamp": 1749178855003,
     "user": {
      "displayName": "Sahil Gundu",
      "userId": "02742797828543038822"
     },
     "user_tz": -330
    },
    "id": "nURTvRo2LB4_",
    "outputId": "afd93ec4-c309-4c15-c0c5-a3cf14577740"
   },
   "outputs": [],
   "source": [
    "d6 = {4.5:\"Sahil\", 2:\"Ramesh\", \"Last\":\"Gundu\"}\n",
    "d6"
   ]
  },
  {
   "cell_type": "code",
   "execution_count": null,
   "metadata": {
    "colab": {
     "base_uri": "https://localhost:8080/",
     "height": 141
    },
    "executionInfo": {
     "elapsed": 32,
     "status": "error",
     "timestamp": 1749178983174,
     "user": {
      "displayName": "Sahil Gundu",
      "userId": "02742797828543038822"
     },
     "user_tz": -330
    },
    "id": "HRDAvAs0Hn32",
    "outputId": "0cac0458-8a1f-4101-89d0-e4ceab61a8be"
   },
   "outputs": [],
   "source": [
    "d7 = {{2:\"Ramesh\"}:\"Sahil\", 2:\"Ramesh\", \"Last\":\"Gundu\"}"
   ]
  },
  {
   "cell_type": "code",
   "execution_count": null,
   "metadata": {
    "colab": {
     "base_uri": "https://localhost:8080/"
    },
    "executionInfo": {
     "elapsed": 20,
     "status": "ok",
     "timestamp": 1749179047966,
     "user": {
      "displayName": "Sahil Gundu",
      "userId": "02742797828543038822"
     },
     "user_tz": -330
    },
    "id": "BZrq_jtGMVJ6",
    "outputId": "ad56b572-5c88-4f2e-c382-6ddb2eabef0a"
   },
   "outputs": [],
   "source": [
    "d7 = {4:\"Sahil\", 2:\"Ramesh\", \"Last\":[1,2,5]}\n",
    "d7"
   ]
  },
  {
   "cell_type": "code",
   "execution_count": null,
   "metadata": {
    "colab": {
     "base_uri": "https://localhost:8080/"
    },
    "executionInfo": {
     "elapsed": 10,
     "status": "ok",
     "timestamp": 1749180974529,
     "user": {
      "displayName": "Sahil Gundu",
      "userId": "02742797828543038822"
     },
     "user_tz": -330
    },
    "id": "v1pSfgpGTvep",
    "outputId": "93c2b242-eec1-40d8-cb87-904c4e7fb865"
   },
   "outputs": [],
   "source": [
    "print(\"Last\" in d7)"
   ]
  },
  {
   "cell_type": "code",
   "execution_count": null,
   "metadata": {
    "colab": {
     "base_uri": "https://localhost:8080/"
    },
    "executionInfo": {
     "elapsed": 60,
     "status": "ok",
     "timestamp": 1749179123605,
     "user": {
      "displayName": "Sahil Gundu",
      "userId": "02742797828543038822"
     },
     "user_tz": -330
    },
    "id": "sb32isq-MVGr",
    "outputId": "21ae1b38-6299-4d25-8776-3085b624b32b"
   },
   "outputs": [],
   "source": [
    "d8 = {4:\"Sahil\", 2:\"Ramesh\", \"Last\":{2:\"Ramesh\"}}\n",
    "d8"
   ]
  },
  {
   "cell_type": "code",
   "execution_count": null,
   "metadata": {
    "id": "MN06N4afMVDl"
   },
   "outputs": [],
   "source": [
    "d8 = {4:\"Sahil\", 2:\"Ramesh\", \"Last\":{2:\"Ramesh\"}}\n",
    "d8"
   ]
  },
  {
   "cell_type": "code",
   "execution_count": null,
   "metadata": {
    "colab": {
     "base_uri": "https://localhost:8080/"
    },
    "executionInfo": {
     "elapsed": 15,
     "status": "ok",
     "timestamp": 1749181267995,
     "user": {
      "displayName": "Sahil Gundu",
      "userId": "02742797828543038822"
     },
     "user_tz": -330
    },
    "id": "IDnx_q0TMU_8",
    "outputId": "20a6a8db-6163-4ac5-b70f-e1444cae28ed"
   },
   "outputs": [],
   "source": [
    "d7"
   ]
  },
  {
   "cell_type": "code",
   "execution_count": null,
   "metadata": {
    "colab": {
     "base_uri": "https://localhost:8080/"
    },
    "executionInfo": {
     "elapsed": 29,
     "status": "ok",
     "timestamp": 1749181302711,
     "user": {
      "displayName": "Sahil Gundu",
      "userId": "02742797828543038822"
     },
     "user_tz": -330
    },
    "id": "5ltlCe4bMU8p",
    "outputId": "05785103-438b-4b4a-fa4b-13776e0df666"
   },
   "outputs": [],
   "source": [
    "d8 = d7.copy()\n",
    "d8"
   ]
  },
  {
   "cell_type": "code",
   "execution_count": null,
   "metadata": {
    "colab": {
     "base_uri": "https://localhost:8080/"
    },
    "executionInfo": {
     "elapsed": 57,
     "status": "ok",
     "timestamp": 1749181327987,
     "user": {
      "displayName": "Sahil Gundu",
      "userId": "02742797828543038822"
     },
     "user_tz": -330
    },
    "id": "pLMM4q5UVJqs",
    "outputId": "0ced2ad7-fd18-47e3-935d-93f1e8d7721b"
   },
   "outputs": [],
   "source": [
    "d9 = d7\n",
    "d9"
   ]
  },
  {
   "cell_type": "code",
   "execution_count": null,
   "metadata": {
    "id": "a6mxO8skVJjZ"
   },
   "outputs": [],
   "source": []
  }
 ],
 "metadata": {
  "colab": {
   "authorship_tag": "ABX9TyOVmVjMKPwK+uDBd0MYIHwS",
   "provenance": []
  },
  "kernelspec": {
   "display_name": "Python 3",
   "name": "python3"
  },
  "language_info": {
   "name": "python"
  }
 },
 "nbformat": 4,
 "nbformat_minor": 0
}
